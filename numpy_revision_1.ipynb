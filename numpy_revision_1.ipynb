{
 "cells": [
  {
   "cell_type": "code",
   "execution_count": 57,
   "id": "d3bf1fd8-8ef6-4218-8952-cd5c2ef1c6d0",
   "metadata": {},
   "outputs": [],
   "source": [
    "import numpy as np"
   ]
  },
  {
   "cell_type": "markdown",
   "id": "5b6d2257-4c8b-4aea-b44a-7894c0a9c5e3",
   "metadata": {},
   "source": [
    "## What is NumPy?\n",
    "NumPy (Numerical Python) is an open source Python library that’s used in almost every field of science and engineering. It’s the universal standard for working with numerical data in Python, and it’s at the core of the scientific Python and PyData ecosystems. NumPy users include everyone from beginning coders to experienced researchers doing state-of-the-art scientific and industrial research and development. The NumPy API is used extensively in Pandas, SciPy, Matplotlib, scikit-learn, scikit-image and most other data science and scientific Python packages.\n",
    "\n",
    "The NumPy library contains multidimensional array and matrix data structures. It provides ndarray, a homogeneous n-dimensional array object, with methods to efficiently operate on it. NumPy can be used to perform a wide variety of mathematical operations on arrays. It adds powerful data structures to Python that guarantee efficient calculations with arrays and matrices and it supplies an enormous library of high-level mathematical functions that operate on these arrays and matrices."
   ]
  },
  {
   "cell_type": "markdown",
   "id": "900476fa-35da-44e7-be1b-5756e676a0e0",
   "metadata": {},
   "source": [
    "## How to install NumPy?\n",
    "If you already have python:\n",
    "```shell\n",
    "conda install numpy\n",
    "```\n",
    "or \n",
    "```shell\n",
    "pip install numpy\n",
    "```"
   ]
  },
  {
   "cell_type": "markdown",
   "id": "ddaf76f6-d466-4ed2-8a06-1f0cabb8f440",
   "metadata": {},
   "source": [
    "## How to import NumPy?\n",
    "```IPython ::python\n",
    "import numpy as np\n",
    "```"
   ]
  },
  {
   "cell_type": "markdown",
   "id": "1b3ec981-2653-400f-8317-a63ffde4f90f",
   "metadata": {},
   "source": [
    "## What’s the difference between a Python list and a NumPy array?\n",
    "NumPy gives you an enormous range of fast and efficient ways of creating arrays and manipulating numerical data inside them. While a Python list can contain different data types within a single list, all of the elements in a NumPy array should be homogeneous. The mathematical operations that are meant to be performed on arrays would be extremely inefficient if the arrays weren’t homogeneous."
   ]
  },
  {
   "cell_type": "markdown",
   "id": "e191b36d-7b21-4097-acf9-b87a098d3fb3",
   "metadata": {},
   "source": [
    "## Why use NumPy?\n",
    "NumPy arrays are faster and more compact than Python lists. An array consumes less memory and is convenient to use. NumPy uses much less memory to store data and it provides a mechanism of specifying the data types. This allows the code to be optimized even further."
   ]
  },
  {
   "cell_type": "markdown",
   "id": "956125df-edc0-478a-a90b-56ddfee92f57",
   "metadata": {},
   "source": [
    "## What is an array?\n",
    "An array is a central data structure of the NumPy library. An array is a grid of values and it contains information about the raw data, how to locate an element, and how to interpret an element. It has a grid of elements that can be indexed in various ways. The elements are all of the same type, referred to as the array dtype.\n",
    "\n",
    "An array can be indexed by a tuple of nonnegative integers, by booleans, by another array, or by integers. The rank of the array is the number of dimensions. The shape of the array is a tuple of integers giving the size of the array along each dimension.\n",
    "\n",
    "One way we can initialize NumPy arrays is from Python lists, using nested lists for two- or higher-dimensional data."
   ]
  },
  {
   "cell_type": "code",
   "execution_count": 58,
   "id": "8726b375-e6f4-4396-9bfe-f052615b7145",
   "metadata": {},
   "outputs": [
    {
     "name": "stdout",
     "output_type": "stream",
     "text": [
      "[[1 2 3]\n",
      " [3 2 1]]\n"
     ]
    }
   ],
   "source": [
    "z = np.array([[1,2,3],[3,2,1]])\n",
    "print(z)"
   ]
  },
  {
   "cell_type": "markdown",
   "id": "8e34c971-6f84-40fa-915d-1cfe4fcfbf38",
   "metadata": {},
   "source": [
    "## How to access Elements in the array?\n",
    "We can access the elements in the array using square brackets. When you’re accessing elements, remember that indexing in NumPy starts at 0. That means that if you want to access the first element in your array, you’ll be accessing element “0”."
   ]
  },
  {
   "cell_type": "code",
   "execution_count": 59,
   "id": "3100eb5c-42f3-4a25-b3dd-d814941e368a",
   "metadata": {},
   "outputs": [
    {
     "data": {
      "text/plain": [
       "1"
      ]
     },
     "execution_count": 59,
     "metadata": {},
     "output_type": "execute_result"
    }
   ],
   "source": [
    "z[0,0]"
   ]
  },
  {
   "cell_type": "markdown",
   "id": "99baf6c3-392a-4da9-b20b-3a3c1e49362a",
   "metadata": {},
   "source": [
    "## What is ndarray?\n",
    "A “ndarray,” which is shorthand for “N-dimensional array.” An N-dimensional array is simply an array with any number of dimensions. You might also hear 1-D, or one-dimensional array, 2-D, or two-dimensional array, and so on."
   ]
  },
  {
   "cell_type": "markdown",
   "id": "1ef9a4fd-198d-4550-978d-65824142749c",
   "metadata": {},
   "source": [
    "## What are the attributes of an array?\n",
    "An array is usually a fixed-size container of items of the same type and size. The number of dimensions and items in an array is defined by its shape. The shape of an array is a tuple of non-negative integers that specify the sizes of each dimension.\n",
    "\n",
    "In NumPy, dimensions are called axes. This means that if you have a 2D array that looks like this:"
   ]
  },
  {
   "cell_type": "code",
   "execution_count": 60,
   "id": "e2b9af43-e904-4671-b733-49f892cdf52d",
   "metadata": {},
   "outputs": [
    {
     "name": "stdout",
     "output_type": "stream",
     "text": [
      "[[1 2 3]\n",
      " [3 2 1]]\n"
     ]
    }
   ],
   "source": [
    "print(z)"
   ]
  },
  {
   "cell_type": "markdown",
   "id": "fd8bc7ff-84ac-4d32-b3b2-7be0af707e23",
   "metadata": {},
   "source": [
    "## How to create a basic array?\n",
    "To create a NumPy array, you can use the function `np.array()`.\n",
    "\n",
    "All you need to do to create a simple array is pass a list to it. If you choose to, you can also specify the type of data in your list."
   ]
  },
  {
   "cell_type": "code",
   "execution_count": 61,
   "id": "6288e64c-206f-4501-ba11-9e9be94c6643",
   "metadata": {},
   "outputs": [
    {
     "name": "stdout",
     "output_type": "stream",
     "text": [
      "[1 2 4 5]\n"
     ]
    }
   ],
   "source": [
    "arr = np.array([1,2,4,5])\n",
    "print(arr)"
   ]
  },
  {
   "cell_type": "markdown",
   "id": "8b889a41-f8c7-441c-9f46-b293766673c6",
   "metadata": {},
   "source": [
    "## How to create an array filled with zeros?"
   ]
  },
  {
   "cell_type": "code",
   "execution_count": 62,
   "id": "839d9387-7066-4bb6-9840-f2354371e984",
   "metadata": {},
   "outputs": [
    {
     "data": {
      "text/plain": [
       "array([0., 0., 0., 0., 0., 0.])"
      ]
     },
     "execution_count": 62,
     "metadata": {},
     "output_type": "execute_result"
    }
   ],
   "source": [
    "arr = np.array(np.zeros(6))\n",
    "arr"
   ]
  },
  {
   "cell_type": "markdown",
   "id": "48115302-de5c-4644-9ddf-6de105d33a23",
   "metadata": {},
   "source": [
    "## How to create an array filled with ones?"
   ]
  },
  {
   "cell_type": "code",
   "execution_count": 63,
   "id": "9452a338-cac8-4428-bc00-70561c5c7621",
   "metadata": {},
   "outputs": [
    {
     "data": {
      "text/plain": [
       "array([[1., 1., 1., 1., 1.],\n",
       "       [1., 1., 1., 1., 1.],\n",
       "       [1., 1., 1., 1., 1.]])"
      ]
     },
     "execution_count": 63,
     "metadata": {},
     "output_type": "execute_result"
    }
   ],
   "source": [
    "arr = np.array([np.ones(5), np.ones(5), np.ones(5)])\n",
    "arr"
   ]
  },
  {
   "cell_type": "markdown",
   "id": "8401eb9e-d475-483b-b0c4-acf55cb33ca2",
   "metadata": {},
   "source": [
    "## How to create an empty array?\n",
    "The function `empty` creates an array whose initial content is random and depends on the state of the memory. The reason to use empty over zeros (or something similar) is speed - just make sure to fill every element afterwards!"
   ]
  },
  {
   "cell_type": "code",
   "execution_count": 64,
   "id": "9c979608-d7c6-4265-a2d1-58d2ffcb761a",
   "metadata": {},
   "outputs": [
    {
     "data": {
      "text/plain": [
       "array([1., 1., 1., 1., 1.])"
      ]
     },
     "execution_count": 64,
     "metadata": {},
     "output_type": "execute_result"
    }
   ],
   "source": [
    "emarray = np.empty(5)\n",
    "emarray"
   ]
  },
  {
   "cell_type": "markdown",
   "id": "b8ab09f0-008b-493a-9085-fea517987aee",
   "metadata": {},
   "source": [
    "## How to create an array with a range of elements?\n",
    "\n",
    "```IPython ::python\n",
    "np.arange(first_number, last_number, step_size)\n",
    "```"
   ]
  },
  {
   "cell_type": "code",
   "execution_count": 65,
   "id": "3216259a-db93-4956-990c-64562ebedb6b",
   "metadata": {},
   "outputs": [
    {
     "data": {
      "text/plain": [
       "array([0, 1, 2, 3, 4, 5, 6, 7, 8, 9])"
      ]
     },
     "execution_count": 65,
     "metadata": {},
     "output_type": "execute_result"
    }
   ],
   "source": [
    "arr = np.arange(10)\n",
    "arr"
   ]
  },
  {
   "cell_type": "markdown",
   "id": "9914725c-abe4-45e4-b8aa-53c402501893",
   "metadata": {},
   "source": [
    "## How to create linearly spaced arrays?\n",
    "We can use `np.linspace()` to create an array with values that are spaced linearly in a specified interval:"
   ]
  },
  {
   "cell_type": "code",
   "execution_count": 66,
   "id": "2e79dc09-42cf-471b-abc4-e29a60a187d9",
   "metadata": {},
   "outputs": [
    {
     "data": {
      "text/plain": [
       "array([ 4.,  8., 12., 16., 20.])"
      ]
     },
     "execution_count": 66,
     "metadata": {},
     "output_type": "execute_result"
    }
   ],
   "source": [
    "arr = np.linspace(4,20,num = 5)\n",
    "arr"
   ]
  },
  {
   "cell_type": "markdown",
   "id": "158123c1-9ddb-4b69-98f3-6e3468b1119e",
   "metadata": {},
   "source": [
    "## How to specify datatype in an array?\n",
    "While the default data type is floating point (`np.float64`), you can explicitly specify which data type you want using the `dtype` keyword."
   ]
  },
  {
   "cell_type": "code",
   "execution_count": 67,
   "id": "0e09511d-9f47-4626-bbfe-7790cdefdea8",
   "metadata": {},
   "outputs": [
    {
     "name": "stdout",
     "output_type": "stream",
     "text": [
      "[1 1 1 1 1]\n",
      "int64\n",
      "[1. 1. 1. 1. 1.]\n",
      "float16\n"
     ]
    }
   ],
   "source": [
    "a = np.array(np.ones(5), dtype = \"int64\")\n",
    "# or\n",
    "b = np.ones(5, dtype = np.float16)\n",
    "print(a)\n",
    "print(a.dtype)\n",
    "print(b)\n",
    "print(b.dtype)"
   ]
  },
  {
   "cell_type": "markdown",
   "id": "7e169698-b23c-4226-b318-70d3a73bd697",
   "metadata": {},
   "source": [
    "## How to Add, remove & sort elements in an array?\n",
    "### Sort"
   ]
  },
  {
   "cell_type": "code",
   "execution_count": 68,
   "id": "e5972600-6bc7-475c-8b93-079d60fad86e",
   "metadata": {},
   "outputs": [
    {
     "data": {
      "text/plain": [
       "array([1, 2, 2, 3, 5, 8, 9])"
      ]
     },
     "execution_count": 68,
     "metadata": {},
     "output_type": "execute_result"
    }
   ],
   "source": [
    "arr = np.array([3,2,5,8,2,9,1])\n",
    "np.sort(arr)"
   ]
  },
  {
   "cell_type": "markdown",
   "id": "b7d5d286-822f-4a39-b1ff-67757f87183a",
   "metadata": {},
   "source": [
    "### Add or Concatenate\n",
    "You can add or concatenate two arrays using \n",
    "```IPython ::python\n",
    "np.concatenate(array1, array2)\n",
    "```"
   ]
  },
  {
   "cell_type": "code",
   "execution_count": 69,
   "id": "398eaf87-48b6-41e5-94a5-b2bcf31dfc6f",
   "metadata": {},
   "outputs": [
    {
     "data": {
      "text/plain": [
       "array([1, 2, 3, 4, 5, 6])"
      ]
     },
     "execution_count": 69,
     "metadata": {},
     "output_type": "execute_result"
    }
   ],
   "source": [
    "a = np.array([1,2,3])\n",
    "b = np.array([4,5,6])\n",
    "c = np.concatenate([a,b], axis = 0)\n",
    "c"
   ]
  },
  {
   "cell_type": "code",
   "execution_count": 70,
   "id": "791aa4b2-f089-46e6-b16f-b1a0857deadc",
   "metadata": {},
   "outputs": [
    {
     "data": {
      "text/plain": [
       "array([[1, 2, 3],\n",
       "       [4, 5, 6]])"
      ]
     },
     "execution_count": 70,
     "metadata": {},
     "output_type": "execute_result"
    }
   ],
   "source": [
    "a = np.array([1,2,3])\n",
    "b = np.array([4,5,6])\n",
    "c = np.concatenate([[a,b]], axis = 1)\n",
    "c"
   ]
  },
  {
   "cell_type": "markdown",
   "id": "1615c530-65db-4ea1-9691-30be997cd748",
   "metadata": {},
   "source": [
    "## How to Know the shape and size of an array?\n",
    "`ndarray.ndim` will tell you the number of axes, or dimensions, of the array.\n",
    "\n",
    "`ndarray.size` will tell you the total number of elements of the array. This is the product of the elements of the array’s shape.\n",
    "\n",
    "`ndarray.shape` will display a tuple of integers that indicate the number of elements stored along each dimension of the array. If, for example, you have a 2-D array with 2 rows and 3 columns, the shape of your array is `(2, 3)`.\n",
    "\n",
    "For example, if you create this array:"
   ]
  },
  {
   "cell_type": "code",
   "execution_count": 71,
   "id": "f2718880-5900-4a8e-9c0c-cb571cabb476",
   "metadata": {},
   "outputs": [],
   "source": [
    "arr = np.array([[1,2,3,4],[9,7,6,5]])"
   ]
  },
  {
   "cell_type": "code",
   "execution_count": 72,
   "id": "09d84bd9-8dcb-490b-858d-0cdb2114ece2",
   "metadata": {},
   "outputs": [
    {
     "data": {
      "text/plain": [
       "2"
      ]
     },
     "execution_count": 72,
     "metadata": {},
     "output_type": "execute_result"
    }
   ],
   "source": [
    "arr.ndim"
   ]
  },
  {
   "cell_type": "code",
   "execution_count": 73,
   "id": "16eee639-fc8c-40ac-8895-9b649ab8a25f",
   "metadata": {},
   "outputs": [
    {
     "data": {
      "text/plain": [
       "8"
      ]
     },
     "execution_count": 73,
     "metadata": {},
     "output_type": "execute_result"
    }
   ],
   "source": [
    "arr.size"
   ]
  },
  {
   "cell_type": "code",
   "execution_count": 74,
   "id": "b59232bf-2ea6-40da-83ab-65cd6fcad962",
   "metadata": {},
   "outputs": [
    {
     "data": {
      "text/plain": [
       "(2, 4)"
      ]
     },
     "execution_count": 74,
     "metadata": {},
     "output_type": "execute_result"
    }
   ],
   "source": [
    "arr.shape"
   ]
  },
  {
   "cell_type": "markdown",
   "id": "d302574b-a962-4fbe-b4ea-2547937bb05e",
   "metadata": {},
   "source": [
    "## How to reshape an array?\n",
    "Using `arr.reshape()` will give a new shape to an array without changing the data. Just remember that when you use the reshape method, the array you want to produce needs to have the same number of elements as the original array."
   ]
  },
  {
   "cell_type": "code",
   "execution_count": 75,
   "id": "f7070922-e641-45cc-b413-215a2a8183ab",
   "metadata": {},
   "outputs": [
    {
     "data": {
      "text/plain": [
       "array([[1, 2, 3, 4],\n",
       "       [5, 6, 7, 8],\n",
       "       [1, 3, 5, 7]])"
      ]
     },
     "execution_count": 75,
     "metadata": {},
     "output_type": "execute_result"
    }
   ],
   "source": [
    "arr = np.array([[1,2,3,4],[5,6,7,8],[1,3,5,7]])\n",
    "arr"
   ]
  },
  {
   "cell_type": "code",
   "execution_count": 76,
   "id": "93e5b53a-bdae-490b-b5ca-308bece2606d",
   "metadata": {},
   "outputs": [
    {
     "data": {
      "text/plain": [
       "(3, 4)"
      ]
     },
     "execution_count": 76,
     "metadata": {},
     "output_type": "execute_result"
    }
   ],
   "source": [
    "arr.shape"
   ]
  },
  {
   "cell_type": "code",
   "execution_count": 77,
   "id": "e759d160-6db1-4239-8123-8b2bfdff37bb",
   "metadata": {},
   "outputs": [
    {
     "data": {
      "text/plain": [
       "array([[1, 2, 3],\n",
       "       [4, 5, 6],\n",
       "       [7, 8, 1],\n",
       "       [3, 5, 7]])"
      ]
     },
     "execution_count": 77,
     "metadata": {},
     "output_type": "execute_result"
    }
   ],
   "source": [
    "arr = arr.reshape(4, 3)\n",
    "arr"
   ]
  },
  {
   "cell_type": "markdown",
   "id": "36d7de7b-234e-4e3d-9e11-25f635daa12d",
   "metadata": {},
   "source": [
    "## How to convert a 1D array into a 2D array?\n",
    "### or\n",
    "## How to add a new axis to an array?\n",
    "You can use `np.newaxis` and `np.expand_dims` to increase the dimensions of your existing array.\n",
    "\n",
    "Using `np.newaxis` will increase the dimensions of your array by one dimension when used once. This means that a 1D array will become a 2D array, a 2D array will become a 3D array, and so on.\n",
    "You can also expand an array by inserting a new axis at a specified position with `np.expand_dims`.\n",
    "For example, if you start with this array:"
   ]
  },
  {
   "cell_type": "code",
   "execution_count": 78,
   "id": "cd047cce-134c-47da-a21a-542b260d9c42",
   "metadata": {},
   "outputs": [
    {
     "data": {
      "text/plain": [
       "array([1, 2, 3, 4, 5, 6])"
      ]
     },
     "execution_count": 78,
     "metadata": {},
     "output_type": "execute_result"
    }
   ],
   "source": [
    "arr = np.array([1,2,3,4,5,6])\n",
    "arr"
   ]
  },
  {
   "cell_type": "code",
   "execution_count": 79,
   "id": "dc2ee646-855f-470d-9d6f-f9927ac75938",
   "metadata": {},
   "outputs": [
    {
     "data": {
      "text/plain": [
       "1"
      ]
     },
     "execution_count": 79,
     "metadata": {},
     "output_type": "execute_result"
    }
   ],
   "source": [
    "arr.ndim"
   ]
  },
  {
   "cell_type": "code",
   "execution_count": 80,
   "id": "fb235bf2-145f-4361-a45c-43fb83e4d08c",
   "metadata": {},
   "outputs": [
    {
     "data": {
      "text/plain": [
       "(6,)"
      ]
     },
     "execution_count": 80,
     "metadata": {},
     "output_type": "execute_result"
    }
   ],
   "source": [
    "arr.shape"
   ]
  },
  {
   "cell_type": "markdown",
   "id": "3e9861e6-b47a-41c3-a9fa-1f2b1f6b1764",
   "metadata": {},
   "source": [
    "You can explicitly convert a 1D array with either a row vector or a column vector using np.newaxis.\n",
    "For example, you can convert a 1D array to a row vector by inserting an axis along the first dimension:"
   ]
  },
  {
   "cell_type": "code",
   "execution_count": 81,
   "id": "f3e2cb3c-7fd7-4f1a-be62-e5325d6e8f17",
   "metadata": {},
   "outputs": [
    {
     "data": {
      "text/plain": [
       "array([[1, 2, 3, 4, 5, 6]])"
      ]
     },
     "execution_count": 81,
     "metadata": {},
     "output_type": "execute_result"
    }
   ],
   "source": [
    "arr = arr[np.newaxis ,:]\n",
    "arr"
   ]
  },
  {
   "cell_type": "code",
   "execution_count": 82,
   "id": "b7e34bf2-41f8-428d-a5f0-277077aa375f",
   "metadata": {},
   "outputs": [
    {
     "data": {
      "text/plain": [
       "2"
      ]
     },
     "execution_count": 82,
     "metadata": {},
     "output_type": "execute_result"
    }
   ],
   "source": [
    "arr.ndim"
   ]
  },
  {
   "cell_type": "code",
   "execution_count": 83,
   "id": "4c61962a-f891-485e-9382-c08da6bc59c2",
   "metadata": {},
   "outputs": [
    {
     "data": {
      "text/plain": [
       "(1, 6)"
      ]
     },
     "execution_count": 83,
     "metadata": {},
     "output_type": "execute_result"
    }
   ],
   "source": [
    "arr.shape"
   ]
  },
  {
   "cell_type": "markdown",
   "id": "b09c1676-f019-452b-93de-f0dbaffde8ed",
   "metadata": {},
   "source": [
    "Or, for a column vector, you can insert an axis along the second dimension:"
   ]
  },
  {
   "cell_type": "code",
   "execution_count": 84,
   "id": "2e18a2ed-b267-4c9a-803e-560f764d13fc",
   "metadata": {},
   "outputs": [
    {
     "data": {
      "text/plain": [
       "(4,)"
      ]
     },
     "execution_count": 84,
     "metadata": {},
     "output_type": "execute_result"
    }
   ],
   "source": [
    "arr = np.array([1,3,4,6])\n",
    "arr.shape"
   ]
  },
  {
   "cell_type": "code",
   "execution_count": 85,
   "id": "9e33d21b-a4a9-42e6-b92c-002977ec6dc7",
   "metadata": {},
   "outputs": [
    {
     "data": {
      "text/plain": [
       "(4,)"
      ]
     },
     "execution_count": 85,
     "metadata": {},
     "output_type": "execute_result"
    }
   ],
   "source": [
    "arr[ :, np.newaxis]\n",
    "arr.shape"
   ]
  },
  {
   "cell_type": "markdown",
   "id": "e3e379ce-fc3b-4de2-a7b7-2c3a49bb5c74",
   "metadata": {},
   "source": [
    "You can also expand an array by inserting a new axis at a specified position with `np.expand_dims`."
   ]
  },
  {
   "cell_type": "code",
   "execution_count": 86,
   "id": "f4dd8097-0d65-47e4-8147-6e21aa129bc7",
   "metadata": {},
   "outputs": [
    {
     "data": {
      "text/plain": [
       "array([[1, 2, 3],\n",
       "       [4, 5, 6]])"
      ]
     },
     "execution_count": 86,
     "metadata": {},
     "output_type": "execute_result"
    }
   ],
   "source": [
    "arr = np.array([[1,2,3],[4,5,6]])\n",
    "arr"
   ]
  },
  {
   "cell_type": "code",
   "execution_count": 87,
   "id": "62b0d8c5-6a04-4e91-a26f-43fe975491b4",
   "metadata": {},
   "outputs": [
    {
     "data": {
      "text/plain": [
       "array([[[1, 2, 3],\n",
       "        [4, 5, 6]]])"
      ]
     },
     "execution_count": 87,
     "metadata": {},
     "output_type": "execute_result"
    }
   ],
   "source": [
    "np.expand_dims(arr, axis=0)"
   ]
  },
  {
   "cell_type": "markdown",
   "id": "015ea40d-eb7a-42c2-bc70-6b830744a4ff",
   "metadata": {},
   "source": [
    "## How do Indexing and Slicing works in Numpy?\n",
    "You can index and slice NumPy arrays in the same ways you can slice Python lists."
   ]
  },
  {
   "cell_type": "code",
   "execution_count": 88,
   "id": "6afc6183-a450-46a3-a806-7d6f31f6778c",
   "metadata": {},
   "outputs": [
    {
     "data": {
      "text/plain": [
       "1"
      ]
     },
     "execution_count": 88,
     "metadata": {},
     "output_type": "execute_result"
    }
   ],
   "source": [
    "arr = np.array([1,2,3,4,5,6,7,8,9])\n",
    "arr[0]"
   ]
  },
  {
   "cell_type": "code",
   "execution_count": 89,
   "id": "c98be3af-1641-45f5-bd73-1b6dc699445b",
   "metadata": {},
   "outputs": [
    {
     "data": {
      "text/plain": [
       "4"
      ]
     },
     "execution_count": 89,
     "metadata": {},
     "output_type": "execute_result"
    }
   ],
   "source": [
    "arr[3]"
   ]
  },
  {
   "cell_type": "code",
   "execution_count": 90,
   "id": "509f0782-b5e6-4d19-bf33-3b1c7fad19d6",
   "metadata": {},
   "outputs": [
    {
     "data": {
      "text/plain": [
       "8"
      ]
     },
     "execution_count": 90,
     "metadata": {},
     "output_type": "execute_result"
    }
   ],
   "source": [
    "arr[7]"
   ]
  },
  {
   "cell_type": "code",
   "execution_count": 91,
   "id": "687996b5-2683-4422-9863-1dbe37faca9f",
   "metadata": {},
   "outputs": [
    {
     "data": {
      "text/plain": [
       "array([1, 2, 3, 4, 5, 6, 7])"
      ]
     },
     "execution_count": 91,
     "metadata": {},
     "output_type": "execute_result"
    }
   ],
   "source": [
    "arr[:7]"
   ]
  },
  {
   "cell_type": "code",
   "execution_count": 92,
   "id": "ca3b4c56-f5c0-428b-b26e-fd9a3f53b7a5",
   "metadata": {},
   "outputs": [
    {
     "data": {
      "text/plain": [
       "array([4, 5, 6, 7, 8, 9])"
      ]
     },
     "execution_count": 92,
     "metadata": {},
     "output_type": "execute_result"
    }
   ],
   "source": [
    "arr[3:]"
   ]
  },
  {
   "cell_type": "code",
   "execution_count": 93,
   "id": "2d88d8e9-c834-4989-b43e-87d99b01bfb9",
   "metadata": {},
   "outputs": [
    {
     "data": {
      "text/plain": [
       "array([9, 8, 7, 6, 5, 4, 3, 2, 1])"
      ]
     },
     "execution_count": 93,
     "metadata": {},
     "output_type": "execute_result"
    }
   ],
   "source": [
    "arr[::-1]"
   ]
  },
  {
   "cell_type": "markdown",
   "id": "07ff2e02-c3f5-455a-9706-116c357f8d44",
   "metadata": {},
   "source": [
    "## How to print values of array with certain conditions."
   ]
  },
  {
   "cell_type": "code",
   "execution_count": 94,
   "id": "a275e71f-ce1c-4cda-9f00-f3de2bda0fdf",
   "metadata": {},
   "outputs": [
    {
     "data": {
      "text/plain": [
       "array([3, 3, 2])"
      ]
     },
     "execution_count": 94,
     "metadata": {},
     "output_type": "execute_result"
    }
   ],
   "source": [
    "arr = np.array([[3,6,3,7,8], [8,5,2,8,9]])\n",
    "arr[arr < 5]"
   ]
  },
  {
   "cell_type": "code",
   "execution_count": 95,
   "id": "54e5d1db-c0ed-4ec8-9639-9953fd2c5784",
   "metadata": {},
   "outputs": [
    {
     "data": {
      "text/plain": [
       "array([6, 8, 8, 2, 8])"
      ]
     },
     "execution_count": 95,
     "metadata": {},
     "output_type": "execute_result"
    }
   ],
   "source": [
    "arr[arr % 2 == 0]"
   ]
  },
  {
   "cell_type": "markdown",
   "id": "9a74d310-6282-4586-aba9-30050ad51883",
   "metadata": {},
   "source": [
    "## How to select elements that satisfy two conditions?\n",
    "You can also make use of the logical operators & and | in order to return boolean values that specify whether or not the values in an array fulfill a certain condition. This can be useful with arrays that contain names or other categorical values."
   ]
  },
  {
   "cell_type": "code",
   "execution_count": 96,
   "id": "04840ba0-fc8a-4097-9bed-15b5dc5c8c40",
   "metadata": {},
   "outputs": [
    {
     "data": {
      "text/plain": [
       "array([4, 5, 6, 7, 8, 9])"
      ]
     },
     "execution_count": 96,
     "metadata": {},
     "output_type": "execute_result"
    }
   ],
   "source": [
    "arr = np.array([[1 , 2, 3, 4], [5, 6, 7, 8], [9, 10, 11, 12]])\n",
    "arr[(arr > 3) & (arr < 10)]"
   ]
  },
  {
   "cell_type": "markdown",
   "id": "d7a73f80-6d0c-4066-9407-d214a8054795",
   "metadata": {},
   "source": [
    "## How to create an array from existing data?"
   ]
  },
  {
   "cell_type": "code",
   "execution_count": 97,
   "id": "6169627d-b44d-4782-8592-b5594afc1c4d",
   "metadata": {},
   "outputs": [
    {
     "data": {
      "text/plain": [
       "array([8, 3, 1, 5, 7, 4, 9, 2, 6, 4])"
      ]
     },
     "execution_count": 97,
     "metadata": {},
     "output_type": "execute_result"
    }
   ],
   "source": [
    "arr = np.array([8,3,1,5,7,4,9,2,6,4])\n",
    "arr"
   ]
  },
  {
   "cell_type": "code",
   "execution_count": 98,
   "id": "0e3559fa-8f0d-4faa-a43a-46c8aa7d8798",
   "metadata": {},
   "outputs": [
    {
     "data": {
      "text/plain": [
       "array([5, 7, 4, 9, 2, 6, 4])"
      ]
     },
     "execution_count": 98,
     "metadata": {},
     "output_type": "execute_result"
    }
   ],
   "source": [
    "arr2 = arr[3:]\n",
    "arr2"
   ]
  },
  {
   "cell_type": "code",
   "execution_count": 99,
   "id": "99ad03c2-f4ef-4f05-8b25-978d3d85068d",
   "metadata": {},
   "outputs": [
    {
     "data": {
      "text/plain": [
       "array([8, 3, 1, 5, 7])"
      ]
     },
     "execution_count": 99,
     "metadata": {},
     "output_type": "execute_result"
    }
   ],
   "source": [
    "arr3, arr4 = np.split(arr,2)\n",
    "arr3"
   ]
  },
  {
   "cell_type": "code",
   "execution_count": 100,
   "id": "00e91363-fd99-446b-a330-115e47af8daf",
   "metadata": {},
   "outputs": [
    {
     "data": {
      "text/plain": [
       "array([4, 9, 2, 6, 4])"
      ]
     },
     "execution_count": 100,
     "metadata": {},
     "output_type": "execute_result"
    }
   ],
   "source": [
    "arr4"
   ]
  },
  {
   "cell_type": "markdown",
   "id": "c02af4bd-f52b-407f-ada3-eea1fc65cf92",
   "metadata": {},
   "source": [
    "## How to stack two arrays horizontally?\n",
    "You can stack two existing arrays, both vertically and horizontally. Let’s say you have two arrays, arr3 and arr4:"
   ]
  },
  {
   "cell_type": "code",
   "execution_count": 101,
   "id": "5460c6cb-ccb1-4b14-aa1d-fa9d6c1d22e5",
   "metadata": {},
   "outputs": [
    {
     "data": {
      "text/plain": [
       "array([8, 3, 1, 5, 7, 4, 9, 2, 6, 4])"
      ]
     },
     "execution_count": 101,
     "metadata": {},
     "output_type": "execute_result"
    }
   ],
   "source": [
    "arr5 = np.hstack((arr3, arr4))\n",
    "arr5"
   ]
  },
  {
   "cell_type": "markdown",
   "id": "848aad85-cdc0-4f9b-b99a-8aefaff38543",
   "metadata": {},
   "source": [
    "## How to stack two arrays vertically?"
   ]
  },
  {
   "cell_type": "code",
   "execution_count": 102,
   "id": "1eacdb3f-f94f-4ee5-8c4b-3c63c07e10dc",
   "metadata": {},
   "outputs": [
    {
     "data": {
      "text/plain": [
       "array([[8, 3, 1, 5, 7],\n",
       "       [4, 9, 2, 6, 4]])"
      ]
     },
     "execution_count": 102,
     "metadata": {},
     "output_type": "execute_result"
    }
   ],
   "source": [
    "arr6 = np.vstack((arr3, arr4))\n",
    "arr6"
   ]
  },
  {
   "cell_type": "markdown",
   "id": "20085c1e-2903-4b2b-948f-b86768cd8a28",
   "metadata": {},
   "source": [
    "## How to create a new array object that looks at the same data as the original array?\n",
    "You can use the `view` method to create a new array object that looks at the same data as the original array (a shallow copy)."
   ]
  },
  {
   "cell_type": "code",
   "execution_count": 103,
   "id": "63b04f50-2904-481b-ab01-dc27d73ce1b7",
   "metadata": {},
   "outputs": [],
   "source": [
    "arr7 = arr6.view()\n",
    "arr7[1,4] = 10"
   ]
  },
  {
   "cell_type": "code",
   "execution_count": 104,
   "id": "3bccf6a0-c968-4f29-91dc-0c8323999855",
   "metadata": {},
   "outputs": [
    {
     "data": {
      "text/plain": [
       "array([[ 8,  3,  1,  5,  7],\n",
       "       [ 4,  9,  2,  6, 10]])"
      ]
     },
     "execution_count": 104,
     "metadata": {},
     "output_type": "execute_result"
    }
   ],
   "source": [
    "arr6"
   ]
  },
  {
   "cell_type": "markdown",
   "id": "4005e034-9671-4df1-910d-7dc9ae9c5641",
   "metadata": {},
   "source": [
    "## How to create a deep copy?\n",
    "Using the `copy` method will make a complete copy of the array and its data (a deep copy)."
   ]
  },
  {
   "cell_type": "code",
   "execution_count": 105,
   "id": "bcc600d1-429a-49db-a04b-04ef3af369f4",
   "metadata": {},
   "outputs": [
    {
     "data": {
      "text/plain": [
       "array([[ 8,  3,  1,  5,  7],\n",
       "       [ 4,  9,  2,  6, 10]])"
      ]
     },
     "execution_count": 105,
     "metadata": {},
     "output_type": "execute_result"
    }
   ],
   "source": [
    "arr8 = arr7.copy()\n",
    "arr8"
   ]
  },
  {
   "cell_type": "markdown",
   "id": "c20348b2-a85b-4c2b-ba56-56d2270f1a3c",
   "metadata": {},
   "source": [
    "## Basic Operations on NumPy Arrays\n",
    "Once you’ve created your arrays, you can perform addition, subtraction, multiplication, division, and more."
   ]
  },
  {
   "cell_type": "code",
   "execution_count": 106,
   "id": "556fae71-5c4f-4f71-abb8-a2306aaf2ea7",
   "metadata": {},
   "outputs": [],
   "source": [
    "a = np.array([2,7,4,3])\n",
    "b = np.array([1,8,3,6])"
   ]
  },
  {
   "cell_type": "code",
   "execution_count": 107,
   "id": "263e7dac-e8d0-4fb3-b33b-d7274e1eb486",
   "metadata": {},
   "outputs": [
    {
     "data": {
      "text/plain": [
       "array([ 3, 15,  7,  9])"
      ]
     },
     "execution_count": 107,
     "metadata": {},
     "output_type": "execute_result"
    }
   ],
   "source": [
    "a + b"
   ]
  },
  {
   "cell_type": "code",
   "execution_count": 108,
   "id": "02eda69b-eb8d-477c-a88d-18d1c04a9e77",
   "metadata": {},
   "outputs": [
    {
     "data": {
      "text/plain": [
       "array([ 1, -1,  1, -3])"
      ]
     },
     "execution_count": 108,
     "metadata": {},
     "output_type": "execute_result"
    }
   ],
   "source": [
    "a - b"
   ]
  },
  {
   "cell_type": "code",
   "execution_count": 109,
   "id": "d1bcef8b-366d-40dd-b592-206289245c7a",
   "metadata": {},
   "outputs": [
    {
     "data": {
      "text/plain": [
       "array([ 2, 56, 12, 18])"
      ]
     },
     "execution_count": 109,
     "metadata": {},
     "output_type": "execute_result"
    }
   ],
   "source": [
    "a * b"
   ]
  },
  {
   "cell_type": "code",
   "execution_count": 110,
   "id": "36691b0d-a2da-484e-a64b-fb6bd64391be",
   "metadata": {},
   "outputs": [
    {
     "data": {
      "text/plain": [
       "array([2.        , 0.875     , 1.33333333, 0.5       ])"
      ]
     },
     "execution_count": 110,
     "metadata": {},
     "output_type": "execute_result"
    }
   ],
   "source": [
    "a / b"
   ]
  },
  {
   "cell_type": "code",
   "execution_count": 111,
   "id": "b57c6058-9189-4415-b176-a4b4e87cb95b",
   "metadata": {},
   "outputs": [
    {
     "data": {
      "text/plain": [
       "array([0.5       , 1.14285714, 0.75      , 2.        ])"
      ]
     },
     "execution_count": 111,
     "metadata": {},
     "output_type": "execute_result"
    }
   ],
   "source": [
    "b / a"
   ]
  },
  {
   "cell_type": "code",
   "execution_count": 112,
   "id": "c9ec6fbc-3f50-4700-a2c3-1b6f3d6bf620",
   "metadata": {},
   "outputs": [
    {
     "data": {
      "text/plain": [
       "34"
      ]
     },
     "execution_count": 112,
     "metadata": {},
     "output_type": "execute_result"
    }
   ],
   "source": [
    "a.sum()+b.sum()"
   ]
  },
  {
   "cell_type": "markdown",
   "id": "06891ade-2aaf-465a-8276-b5e1b8615664",
   "metadata": {},
   "source": [
    "## What is meant by <strong>Broadcasting</strong>?\n",
    "<strong>Broadcasting</strong> is a mechanism that allows NumPy to perform operations on arrays of different shapes. The dimensions of your array must be compatible."
   ]
  },
  {
   "cell_type": "markdown",
   "id": "e2782b3c-e410-49e2-a7bf-d3708ce4c3f5",
   "metadata": {},
   "source": [
    "# [Continue Here](http://localhost/numpy/user/absolute_beginners.html#more-useful-array-operations)"
   ]
  },
  {
   "cell_type": "code",
   "execution_count": null,
   "id": "dab72842-b828-4642-9f0f-fb21d55343f2",
   "metadata": {},
   "outputs": [],
   "source": []
  },
  {
   "cell_type": "code",
   "execution_count": null,
   "id": "a9c7e389-4c6a-4419-a9ec-4d4febba3082",
   "metadata": {},
   "outputs": [],
   "source": []
  },
  {
   "cell_type": "code",
   "execution_count": null,
   "id": "0195d136-d086-4188-aaeb-b214e373a124",
   "metadata": {},
   "outputs": [],
   "source": []
  }
 ],
 "metadata": {
  "kernelspec": {
   "display_name": "Python 3 (ipykernel)",
   "language": "python",
   "name": "python3"
  },
  "language_info": {
   "codemirror_mode": {
    "name": "ipython",
    "version": 3
   },
   "file_extension": ".py",
   "mimetype": "text/x-python",
   "name": "python",
   "nbconvert_exporter": "python",
   "pygments_lexer": "ipython3",
   "version": "3.11.4"
  },
  "widgets": {
   "application/vnd.jupyter.widget-state+json": {
    "state": {},
    "version_major": 2,
    "version_minor": 0
   }
  }
 },
 "nbformat": 4,
 "nbformat_minor": 5
}
