{
 "cells": [
  {
   "cell_type": "markdown",
   "id": "0e1d2387-b3ae-4191-a4c0-9552e5fe0047",
   "metadata": {},
   "source": [
    "## What is `pandas`?\n",
    "`pandas` is an open source, BSD-licensed library providing high-performance, easy-to-use data structures and data analysis tools for the Python programming language."
   ]
  },
  {
   "cell_type": "markdown",
   "id": "2998686f-8de1-4958-813e-ec814de1a203",
   "metadata": {},
   "source": [
    "## How to import pandas?"
   ]
  },
  {
   "cell_type": "code",
   "execution_count": 5,
   "id": "7834a7c6-36a6-405e-88b2-2b66c172db16",
   "metadata": {},
   "outputs": [],
   "source": [
    "import pandas as pd\n",
    "import numpy as np"
   ]
  },
  {
   "cell_type": "markdown",
   "id": "a8c2b392-b23a-4a2c-b22b-b1d78ae3d77a",
   "metadata": {},
   "source": [
    "## What is Sereis in pandas?\n",
    "Series is a one-dimensional labeled array capable of holding any data type (integers, strings, floating point numbers, Python objects, etc.)."
   ]
  },
  {
   "cell_type": "markdown",
   "id": "09927311-9321-4aab-9609-796fdb5a29de",
   "metadata": {},
   "source": [
    "## How to create a Series?\n",
    "``` IPython:: python\n",
    "ser = pd.Series(data, index = idx)\n",
    "```"
   ]
  },
  {
   "cell_type": "code",
   "execution_count": 2,
   "id": "02dd3379-2a02-4410-96fd-921bd720ac30",
   "metadata": {},
   "outputs": [
    {
     "data": {
      "text/plain": [
       "0    1\n",
       "1    2\n",
       "2    3\n",
       "3    4\n",
       "dtype: int64"
      ]
     },
     "execution_count": 2,
     "metadata": {},
     "output_type": "execute_result"
    }
   ],
   "source": [
    "ser = pd.Series([1,2,3,4])\n",
    "ser"
   ]
  },
  {
   "cell_type": "markdown",
   "id": "1a17936e-efc5-46c9-9c66-9641b9b62e3a",
   "metadata": {},
   "source": [
    "## How to create a Series from ndarray?"
   ]
  },
  {
   "cell_type": "code",
   "execution_count": 6,
   "id": "f7f8d45e-2393-4764-a1b3-a6af11ff9261",
   "metadata": {},
   "outputs": [
    {
     "data": {
      "text/plain": [
       "a    12\n",
       "b    23\n",
       "c    34\n",
       "d    45\n",
       "e    56\n",
       "dtype: int32"
      ]
     },
     "execution_count": 6,
     "metadata": {},
     "output_type": "execute_result"
    }
   ],
   "source": [
    "ser = pd.Series(np.array([12,23,34,45,56]), index = list(\"abcde\"))\n",
    "ser"
   ]
  },
  {
   "cell_type": "markdown",
   "id": "5b4ca1e7-fff8-4754-bc8a-d6247a9ca168",
   "metadata": {},
   "source": [
    "## How to create a Series from dict?"
   ]
  },
  {
   "cell_type": "code",
   "execution_count": 10,
   "id": "3def5ee2-36be-4ad5-89e6-275447ae6e35",
   "metadata": {},
   "outputs": [
    {
     "data": {
      "text/plain": [
       "A    1\n",
       "B    3\n",
       "C    4\n",
       "D    7\n",
       "dtype: int64"
      ]
     },
     "execution_count": 10,
     "metadata": {},
     "output_type": "execute_result"
    }
   ],
   "source": [
    "data = {\n",
    "    \"A\" : 1,\n",
    "    \"B\": 3,\n",
    "    \"C\": 4,\n",
    "    \"D\": 7\n",
    "}\n",
    "ser = pd.Series(data)\n",
    "ser"
   ]
  },
  {
   "cell_type": "markdown",
   "id": "6e5ddbd4-aca8-4397-9f6a-cbbb65d3d2e4",
   "metadata": {},
   "source": [
    "## How to create a Series from a scalar value?"
   ]
  },
  {
   "cell_type": "code",
   "execution_count": 11,
   "id": "c25ef806-2a6c-4ffe-9d65-943e720651b3",
   "metadata": {},
   "outputs": [
    {
     "data": {
      "text/plain": [
       "1    5.0\n",
       "2    5.0\n",
       "3    5.0\n",
       "4    5.0\n",
       "5    5.0\n",
       "dtype: float64"
      ]
     },
     "execution_count": 11,
     "metadata": {},
     "output_type": "execute_result"
    }
   ],
   "source": [
    "ser = pd.Series(5.0,  index = [1,2,3,4,5])\n",
    "ser"
   ]
  },
  {
   "cell_type": "markdown",
   "id": "a6b59581-dcc8-4a45-940a-2da13acde8c2",
   "metadata": {},
   "source": [
    "## What is NaN?\n",
    "<b>NaN</b> (not a number) is the standard missing data marker used in pandas."
   ]
  },
  {
   "cell_type": "code",
   "execution_count": null,
   "id": "535d368e-87b5-4ef8-b8ba-5601adf69fae",
   "metadata": {},
   "outputs": [],
   "source": []
  },
  {
   "cell_type": "code",
   "execution_count": null,
   "id": "3a514cc0-8f9b-4b85-b7c8-31a23eed3bc4",
   "metadata": {},
   "outputs": [],
   "source": []
  },
  {
   "cell_type": "code",
   "execution_count": null,
   "id": "45cac493-8916-487c-bd20-3fbf348618be",
   "metadata": {},
   "outputs": [],
   "source": []
  }
 ],
 "metadata": {
  "kernelspec": {
   "display_name": "Python 3 (ipykernel)",
   "language": "python",
   "name": "python3"
  },
  "language_info": {
   "codemirror_mode": {
    "name": "ipython",
    "version": 3
   },
   "file_extension": ".py",
   "mimetype": "text/x-python",
   "name": "python",
   "nbconvert_exporter": "python",
   "pygments_lexer": "ipython3",
   "version": "3.11.4"
  },
  "widgets": {
   "application/vnd.jupyter.widget-state+json": {
    "state": {},
    "version_major": 2,
    "version_minor": 0
   }
  }
 },
 "nbformat": 4,
 "nbformat_minor": 5
}
