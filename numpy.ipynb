{
 "cells": [
  {
   "cell_type": "code",
   "execution_count": 1,
   "id": "e0c624eb",
   "metadata": {},
   "outputs": [],
   "source": [
    "import numpy as np"
   ]
  },
  {
   "cell_type": "markdown",
   "id": "1bf019a3-1860-42ad-97d8-2595aabc2db8",
   "metadata": {},
   "source": [
    "# Creating, Slicing, Indexing"
   ]
  },
  {
   "cell_type": "markdown",
   "id": "1f173355",
   "metadata": {},
   "source": [
    "## Creating arrays"
   ]
  },
  {
   "cell_type": "code",
   "execution_count": 2,
   "id": "0a91a84d",
   "metadata": {},
   "outputs": [
    {
     "data": {
      "text/plain": [
       "array([40, 59, 60, 70])"
      ]
     },
     "execution_count": 2,
     "metadata": {},
     "output_type": "execute_result"
    }
   ],
   "source": [
    "arr = np.array([40,59,60,70])\n",
    "arr"
   ]
  },
  {
   "cell_type": "markdown",
   "id": "648ca546",
   "metadata": {},
   "source": [
    "### 1D array"
   ]
  },
  {
   "cell_type": "code",
   "execution_count": 3,
   "id": "ff59e657",
   "metadata": {},
   "outputs": [
    {
     "data": {
      "text/plain": [
       "1"
      ]
     },
     "execution_count": 3,
     "metadata": {},
     "output_type": "execute_result"
    }
   ],
   "source": [
    "onearr = np.array([30,40,50,60])\n",
    "np.ndim(arr)"
   ]
  },
  {
   "cell_type": "markdown",
   "id": "aa4d9b16",
   "metadata": {},
   "source": [
    "### 2D array"
   ]
  },
  {
   "cell_type": "code",
   "execution_count": 4,
   "id": "3214ca71",
   "metadata": {},
   "outputs": [
    {
     "data": {
      "text/plain": [
       "1"
      ]
     },
     "execution_count": 4,
     "metadata": {},
     "output_type": "execute_result"
    }
   ],
   "source": [
    "twoarr = np.array([[20,30], [40,50]])\n",
    "np.ndim(arr)"
   ]
  },
  {
   "cell_type": "markdown",
   "id": "56deff20",
   "metadata": {},
   "source": [
    "### 3D array"
   ]
  },
  {
   "cell_type": "code",
   "execution_count": 5,
   "id": "8948887b",
   "metadata": {},
   "outputs": [
    {
     "data": {
      "text/plain": [
       "1"
      ]
     },
     "execution_count": 5,
     "metadata": {},
     "output_type": "execute_result"
    }
   ],
   "source": [
    "threearr = np.array([[[1,2,3],[4,5,6]]])\n",
    "np.ndim(arr)"
   ]
  },
  {
   "cell_type": "markdown",
   "id": "f7ac1ec4",
   "metadata": {},
   "source": [
    "## Indexing\n",
    "### Indexing in 1d array"
   ]
  },
  {
   "cell_type": "code",
   "execution_count": 6,
   "id": "8f073891",
   "metadata": {},
   "outputs": [
    {
     "data": {
      "text/plain": [
       "40"
      ]
     },
     "execution_count": 6,
     "metadata": {},
     "output_type": "execute_result"
    }
   ],
   "source": [
    "arr = np.array([40,50,60,70,80])\n",
    "arr[0]"
   ]
  },
  {
   "cell_type": "code",
   "execution_count": 7,
   "id": "3bc787d4",
   "metadata": {},
   "outputs": [
    {
     "data": {
      "text/plain": [
       "50"
      ]
     },
     "execution_count": 7,
     "metadata": {},
     "output_type": "execute_result"
    }
   ],
   "source": [
    "arr[1]"
   ]
  },
  {
   "cell_type": "code",
   "execution_count": 8,
   "id": "fa0daf14",
   "metadata": {},
   "outputs": [
    {
     "data": {
      "text/plain": [
       "80"
      ]
     },
     "execution_count": 8,
     "metadata": {},
     "output_type": "execute_result"
    }
   ],
   "source": [
    "arr[4]"
   ]
  },
  {
   "cell_type": "markdown",
   "id": "a4405df7",
   "metadata": {},
   "source": [
    "### Indexing in 2d array"
   ]
  },
  {
   "cell_type": "code",
   "execution_count": 9,
   "id": "dd60ffe3",
   "metadata": {},
   "outputs": [
    {
     "data": {
      "text/plain": [
       "array([2, 3, 4])"
      ]
     },
     "execution_count": 9,
     "metadata": {},
     "output_type": "execute_result"
    }
   ],
   "source": [
    "tdarray = np.array([[2,3,4],[5,6,7],[7,8,9]])\n",
    "tdarray[0]"
   ]
  },
  {
   "cell_type": "code",
   "execution_count": 10,
   "id": "4de130c6",
   "metadata": {},
   "outputs": [
    {
     "data": {
      "text/plain": [
       "array([5, 6, 7])"
      ]
     },
     "execution_count": 10,
     "metadata": {},
     "output_type": "execute_result"
    }
   ],
   "source": [
    "tdarray[1]"
   ]
  },
  {
   "cell_type": "code",
   "execution_count": 11,
   "id": "1f5258f3",
   "metadata": {},
   "outputs": [
    {
     "data": {
      "text/plain": [
       "array([7, 8, 9])"
      ]
     },
     "execution_count": 11,
     "metadata": {},
     "output_type": "execute_result"
    }
   ],
   "source": [
    "tdarray[2]"
   ]
  },
  {
   "cell_type": "code",
   "execution_count": 12,
   "id": "fa2b6f07",
   "metadata": {},
   "outputs": [
    {
     "data": {
      "text/plain": [
       "3"
      ]
     },
     "execution_count": 12,
     "metadata": {},
     "output_type": "execute_result"
    }
   ],
   "source": [
    "tdarray[0,1]"
   ]
  },
  {
   "cell_type": "code",
   "execution_count": 13,
   "id": "3745a211",
   "metadata": {},
   "outputs": [
    {
     "data": {
      "text/plain": [
       "array([2])"
      ]
     },
     "execution_count": 13,
     "metadata": {},
     "output_type": "execute_result"
    }
   ],
   "source": [
    "tdarray[0,:1]"
   ]
  },
  {
   "cell_type": "code",
   "execution_count": 14,
   "id": "e7355af9",
   "metadata": {},
   "outputs": [
    {
     "data": {
      "text/plain": [
       "7"
      ]
     },
     "execution_count": 14,
     "metadata": {},
     "output_type": "execute_result"
    }
   ],
   "source": [
    "tdarray[1,2]"
   ]
  },
  {
   "cell_type": "markdown",
   "id": "9118dfed",
   "metadata": {},
   "source": [
    "## Slicing\n",
    "### Slicing in 1d array"
   ]
  },
  {
   "cell_type": "code",
   "execution_count": 15,
   "id": "c4c75868",
   "metadata": {},
   "outputs": [
    {
     "data": {
      "text/plain": [
       "array([10, 20, 30, 40, 50])"
      ]
     },
     "execution_count": 15,
     "metadata": {},
     "output_type": "execute_result"
    }
   ],
   "source": [
    "arr = np.array([10,20,30,40,50,60,70,80,90])\n",
    "arr[0:5]"
   ]
  },
  {
   "cell_type": "code",
   "execution_count": 16,
   "id": "26ed095a",
   "metadata": {},
   "outputs": [
    {
     "data": {
      "text/plain": [
       "array([10, 20, 30, 40, 50])"
      ]
     },
     "execution_count": 16,
     "metadata": {},
     "output_type": "execute_result"
    }
   ],
   "source": [
    "arr[:5]"
   ]
  },
  {
   "cell_type": "code",
   "execution_count": 17,
   "id": "d697e935",
   "metadata": {},
   "outputs": [
    {
     "data": {
      "text/plain": [
       "array([40])"
      ]
     },
     "execution_count": 17,
     "metadata": {},
     "output_type": "execute_result"
    }
   ],
   "source": [
    "arr[3:4]"
   ]
  },
  {
   "cell_type": "code",
   "execution_count": 18,
   "id": "b7f756f8",
   "metadata": {},
   "outputs": [
    {
     "data": {
      "text/plain": [
       "array([50, 60, 70, 80, 90])"
      ]
     },
     "execution_count": 18,
     "metadata": {},
     "output_type": "execute_result"
    }
   ],
   "source": [
    "arr[4:]"
   ]
  },
  {
   "cell_type": "code",
   "execution_count": 19,
   "id": "26a049d9",
   "metadata": {},
   "outputs": [
    {
     "data": {
      "text/plain": [
       "array([10, 20, 30, 40, 50])"
      ]
     },
     "execution_count": 19,
     "metadata": {},
     "output_type": "execute_result"
    }
   ],
   "source": [
    "arr[:5]"
   ]
  },
  {
   "cell_type": "markdown",
   "id": "c0efba95",
   "metadata": {},
   "source": [
    "### slicing in 2d array"
   ]
  },
  {
   "cell_type": "code",
   "execution_count": 20,
   "id": "d13076ee",
   "metadata": {},
   "outputs": [],
   "source": [
    "twarray = np.array([[10,20,30], [40,50,60], [70,80,90]])"
   ]
  },
  {
   "cell_type": "code",
   "execution_count": 21,
   "id": "8434cd01",
   "metadata": {},
   "outputs": [
    {
     "data": {
      "text/plain": [
       "30"
      ]
     },
     "execution_count": 21,
     "metadata": {},
     "output_type": "execute_result"
    }
   ],
   "source": [
    "# first row and 3rd column\n",
    "twarray[0,2]"
   ]
  },
  {
   "cell_type": "code",
   "execution_count": 22,
   "id": "79f831eb",
   "metadata": {},
   "outputs": [
    {
     "data": {
      "text/plain": [
       "40"
      ]
     },
     "execution_count": 22,
     "metadata": {},
     "output_type": "execute_result"
    }
   ],
   "source": [
    "# 2nd row and 1st column\n",
    "twarray[1,0]"
   ]
  },
  {
   "cell_type": "code",
   "execution_count": 23,
   "id": "35ebe198",
   "metadata": {},
   "outputs": [
    {
     "data": {
      "text/plain": [
       "80"
      ]
     },
     "execution_count": 23,
     "metadata": {},
     "output_type": "execute_result"
    }
   ],
   "source": [
    "# Third row and 2nd column\n",
    "twarray[2,1]"
   ]
  },
  {
   "cell_type": "code",
   "execution_count": 24,
   "id": "e5c5e707",
   "metadata": {},
   "outputs": [
    {
     "data": {
      "text/plain": [
       "array([70, 80, 90])"
      ]
     },
     "execution_count": 24,
     "metadata": {},
     "output_type": "execute_result"
    }
   ],
   "source": [
    "twarray[2]"
   ]
  },
  {
   "cell_type": "markdown",
   "id": "95d19c5e",
   "metadata": {},
   "source": [
    "# Inspecting an array"
   ]
  },
  {
   "cell_type": "code",
   "execution_count": 25,
   "id": "355efc8b",
   "metadata": {},
   "outputs": [
    {
     "data": {
      "text/plain": [
       "(3, 4)"
      ]
     },
     "execution_count": 25,
     "metadata": {},
     "output_type": "execute_result"
    }
   ],
   "source": [
    "arr = np.array([[10,20,30,40], [50,60,70,80], [20,40,60,80]])\n",
    "arr.shape # Number of rows and columns\n"
   ]
  },
  {
   "cell_type": "code",
   "execution_count": 26,
   "id": "098f0fae",
   "metadata": {},
   "outputs": [
    {
     "data": {
      "text/plain": [
       "12"
      ]
     },
     "execution_count": 26,
     "metadata": {},
     "output_type": "execute_result"
    }
   ],
   "source": [
    "arr.size # Number of total elements"
   ]
  },
  {
   "cell_type": "code",
   "execution_count": 27,
   "id": "604c3107",
   "metadata": {},
   "outputs": [
    {
     "data": {
      "text/plain": [
       "2"
      ]
     },
     "execution_count": 27,
     "metadata": {},
     "output_type": "execute_result"
    }
   ],
   "source": [
    "np.ndim(arr) # Number of dimensions"
   ]
  },
  {
   "cell_type": "code",
   "execution_count": 28,
   "id": "f6becbd3",
   "metadata": {},
   "outputs": [
    {
     "data": {
      "text/plain": [
       "dtype('int32')"
      ]
     },
     "execution_count": 28,
     "metadata": {},
     "output_type": "execute_result"
    }
   ],
   "source": [
    "arr.dtype # Datatype"
   ]
  },
  {
   "cell_type": "code",
   "execution_count": 29,
   "id": "c783727c",
   "metadata": {},
   "outputs": [
    {
     "data": {
      "text/plain": [
       "3"
      ]
     },
     "execution_count": 29,
     "metadata": {},
     "output_type": "execute_result"
    }
   ],
   "source": [
    "len(arr) # Number of nested values"
   ]
  },
  {
   "cell_type": "code",
   "execution_count": 30,
   "id": "7243e805-f75f-4282-93b2-3bad65162962",
   "metadata": {},
   "outputs": [
    {
     "data": {
      "text/plain": [
       "array([[10., 20., 30., 40.],\n",
       "       [50., 60., 70., 80.],\n",
       "       [20., 40., 60., 80.]])"
      ]
     },
     "execution_count": 30,
     "metadata": {},
     "output_type": "execute_result"
    }
   ],
   "source": [
    "arr.astype(float) # convert datatype"
   ]
  },
  {
   "cell_type": "code",
   "execution_count": 31,
   "id": "e30a7ce3-0e6c-49f3-85f5-a7742346ea5c",
   "metadata": {},
   "outputs": [
    {
     "data": {
      "text/plain": [
       "array([[10, 20, 30, 40],\n",
       "       [50, 60, 70, 80],\n",
       "       [20, 40, 60, 80]])"
      ]
     },
     "execution_count": 31,
     "metadata": {},
     "output_type": "execute_result"
    }
   ],
   "source": [
    "arr.astype(int)"
   ]
  },
  {
   "cell_type": "markdown",
   "id": "959e14b2-d630-4335-85d9-bbb1a3053bb5",
   "metadata": {},
   "source": [
    "# Mathematical Operations and Functions on Arrays"
   ]
  },
  {
   "cell_type": "code",
   "execution_count": 32,
   "id": "22957de9-9ae7-4f51-b47d-9df98963466f",
   "metadata": {},
   "outputs": [
    {
     "name": "stdout",
     "output_type": "stream",
     "text": [
      "[[ 40  60  80]\n",
      " [ 70 110  70]\n",
      " [ 30  60  90]]\n",
      "[[ 40  60  80]\n",
      " [ 70 110  70]\n",
      " [ 30  60  90]]\n"
     ]
    }
   ],
   "source": [
    "# Addition\n",
    "arr1 = np.array([[10,20,30],[40,50,60],[20,40,60]])\n",
    "arr2 = np.array([[30,40,50],[30,60,10],[10,20,30]])\n",
    "print(arr1+arr2)\n",
    "print(np.add(arr1,arr2))"
   ]
  },
  {
   "cell_type": "code",
   "execution_count": 33,
   "id": "9cf2c6cd-a292-4a16-aeb3-585e7ba0f9ac",
   "metadata": {},
   "outputs": [
    {
     "name": "stdout",
     "output_type": "stream",
     "text": [
      "[[-20 -20 -20]\n",
      " [ 10 -10  50]\n",
      " [ 10  20  30]]\n",
      "[[-20 -20 -20]\n",
      " [ 10 -10  50]\n",
      " [ 10  20  30]]\n"
     ]
    }
   ],
   "source": [
    "# Subtraction\n",
    "arr1 = np.array([[10,20,30],[40,50,60],[20,40,60]])\n",
    "arr2 = np.array([[30,40,50],[30,60,10],[10,20,30]])\n",
    "print(arr1-arr2)\n",
    "print(np.subtract(arr1,arr2))"
   ]
  },
  {
   "cell_type": "code",
   "execution_count": 34,
   "id": "ef82a1a4-0930-4b1f-b0a1-fae6193a43c5",
   "metadata": {},
   "outputs": [
    {
     "name": "stdout",
     "output_type": "stream",
     "text": [
      "[[ 300  800 1500]\n",
      " [1200 3000  600]\n",
      " [ 200  800 1800]]\n",
      "[[ 300  800 1500]\n",
      " [1200 3000  600]\n",
      " [ 200  800 1800]]\n"
     ]
    }
   ],
   "source": [
    "# Multiplication\n",
    "arr1 = np.array([[10,20,30],[40,50,60],[20,40,60]])\n",
    "arr2 = np.array([[30,40,50],[30,60,10],[10,20,30]])\n",
    "print(arr1*arr2)\n",
    "print(np.multiply(arr1,arr2))"
   ]
  },
  {
   "cell_type": "code",
   "execution_count": 35,
   "id": "764c9c59-f603-4a51-bf69-6792106bc37b",
   "metadata": {},
   "outputs": [
    {
     "name": "stdout",
     "output_type": "stream",
     "text": [
      "[[0.33333333 0.5        0.6       ]\n",
      " [1.33333333 0.83333333 6.        ]\n",
      " [2.         2.         2.        ]]\n",
      "[[0.33333333 0.5        0.6       ]\n",
      " [1.33333333 0.83333333 6.        ]\n",
      " [2.         2.         2.        ]]\n"
     ]
    }
   ],
   "source": [
    "# Division\n",
    "arr1 = np.array([[10,20,30],[40,50,60],[20,40,60]])\n",
    "arr2 = np.array([[30,40,50],[30,60,10],[10,20,30]])\n",
    "print(arr1/arr2)\n",
    "print(np.divide(arr1,arr2))"
   ]
  },
  {
   "cell_type": "code",
   "execution_count": 36,
   "id": "b0fd82cb-4e2d-4e19-9049-bf05073b7ccc",
   "metadata": {},
   "outputs": [
    {
     "name": "stdout",
     "output_type": "stream",
     "text": [
      "[[1073741824          0          0]\n",
      " [         0          0 -972029952]\n",
      " [ 797966336          0          0]]\n",
      "[[1073741824          0          0]\n",
      " [         0          0 -972029952]\n",
      " [ 797966336          0          0]]\n"
     ]
    }
   ],
   "source": [
    "# Power\n",
    "arr1 = np.array([[10,20,30],[40,50,60],[20,40,60]])\n",
    "arr2 = np.array([[30,40,50],[30,60,10],[10,20,30]])\n",
    "print(arr1**arr2)\n",
    "print(np.power(arr1,arr2))"
   ]
  },
  {
   "cell_type": "markdown",
   "id": "9a7233f9-5195-4869-8953-32d64841b03e",
   "metadata": {},
   "source": [
    "# Combining and Splitting an array"
   ]
  },
  {
   "cell_type": "markdown",
   "id": "10aa0a60-8a6e-49b4-9b90-9c0eb450573a",
   "metadata": {},
   "source": [
    "## Combining arrays"
   ]
  },
  {
   "cell_type": "code",
   "execution_count": 37,
   "id": "1213cf9d-57a8-4de1-a737-8db17ca492db",
   "metadata": {},
   "outputs": [
    {
     "data": {
      "text/plain": [
       "[20, 40, 60, 10, 20, 30]"
      ]
     },
     "execution_count": 37,
     "metadata": {},
     "output_type": "execute_result"
    }
   ],
   "source": [
    "# Combine Lists\n",
    "a = [20,40,60]\n",
    "b = [10,20,30]\n",
    "a + b"
   ]
  },
  {
   "cell_type": "code",
   "execution_count": 38,
   "id": "1a29365e-885e-4451-939f-b4373aad5691",
   "metadata": {},
   "outputs": [
    {
     "data": {
      "text/plain": [
       "array([20, 40, 60, 10, 20, 30])"
      ]
     },
     "execution_count": 38,
     "metadata": {},
     "output_type": "execute_result"
    }
   ],
   "source": [
    "arr1 = np.array([20,40,60])\n",
    "arr2 = np.array([10,20,30])\n",
    "np.concatenate([arr1, arr2])"
   ]
  },
  {
   "cell_type": "code",
   "execution_count": 39,
   "id": "8ce62fe5-899b-4a54-b193-025b09278e6b",
   "metadata": {},
   "outputs": [
    {
     "data": {
      "text/plain": [
       "array([20, 40, 60, 10, 20, 30])"
      ]
     },
     "execution_count": 39,
     "metadata": {},
     "output_type": "execute_result"
    }
   ],
   "source": [
    "np.concatenate([arr1,arr2], axis = 0) # Horizontally"
   ]
  },
  {
   "cell_type": "code",
   "execution_count": 40,
   "id": "f4d14105-6ccc-4a8f-a7a2-f140f683abc2",
   "metadata": {},
   "outputs": [
    {
     "name": "stdout",
     "output_type": "stream",
     "text": [
      "[[[20 40 60]]\n",
      "\n",
      " [[10 20 30]]]\n"
     ]
    }
   ],
   "source": [
    "arr1 = np.array([[20,40,60]])\n",
    "arr2 = np.array([[10,20,30]])\n",
    "print(np.concatenate([[arr1,arr2]], axis = 1)) # Matric"
   ]
  },
  {
   "cell_type": "code",
   "execution_count": 41,
   "id": "ba5f899d-ee1d-4922-91d9-1416f876b6d0",
   "metadata": {},
   "outputs": [
    {
     "data": {
      "text/plain": [
       "array([[20, 40, 60, 10, 20, 30]])"
      ]
     },
     "execution_count": 41,
     "metadata": {},
     "output_type": "execute_result"
    }
   ],
   "source": [
    "np.hstack([arr1,arr2]) # Horizontally"
   ]
  },
  {
   "cell_type": "code",
   "execution_count": 42,
   "id": "ba8c5bd9-236d-4f6f-acb3-7a53b66aceb6",
   "metadata": {},
   "outputs": [
    {
     "data": {
      "text/plain": [
       "array([[20, 40, 60],\n",
       "       [10, 20, 30]])"
      ]
     },
     "execution_count": 42,
     "metadata": {},
     "output_type": "execute_result"
    }
   ],
   "source": [
    "np.vstack([arr1,arr2])"
   ]
  },
  {
   "cell_type": "markdown",
   "id": "a76a21fc-1cbc-4bdc-a835-7989ac7f021b",
   "metadata": {},
   "source": [
    "## Splitting an array"
   ]
  },
  {
   "cell_type": "code",
   "execution_count": 43,
   "id": "0cf0eeaf-c504-453c-8ebb-7fb1d15b8adc",
   "metadata": {},
   "outputs": [
    {
     "data": {
      "text/plain": [
       "[array([10, 20, 30]), array([40, 50, 60]), array([70, 80, 90])]"
      ]
     },
     "execution_count": 43,
     "metadata": {},
     "output_type": "execute_result"
    }
   ],
   "source": [
    "longArray = np.array([10,20,30,40,50,60,70,80,90])\n",
    "np.split(longArray,3)"
   ]
  },
  {
   "cell_type": "markdown",
   "id": "c39846f3-fadf-4ac7-b4d0-50eb16ba372a",
   "metadata": {},
   "source": [
    "# Adding and removing elements in arrays"
   ]
  },
  {
   "cell_type": "markdown",
   "id": "4b06f649-056f-4010-8ee9-e31cd4521fda",
   "metadata": {},
   "source": [
    "## Adding"
   ]
  },
  {
   "cell_type": "code",
   "execution_count": 44,
   "id": "0db8d91b-de3f-4a1b-8b07-3f97858f954e",
   "metadata": {},
   "outputs": [
    {
     "data": {
      "text/plain": [
       "array([1, 2, 3, 4, 5])"
      ]
     },
     "execution_count": 44,
     "metadata": {},
     "output_type": "execute_result"
    }
   ],
   "source": [
    "arr = np.array([1,2,3,4])\n",
    "np.append(arr,5) # append value at the end\n",
    "# array, value"
   ]
  },
  {
   "cell_type": "code",
   "execution_count": 45,
   "id": "972586bd-a086-425f-84fb-92bd125201fd",
   "metadata": {},
   "outputs": [
    {
     "data": {
      "text/plain": [
       "array([1, 2, 3, 7, 4])"
      ]
     },
     "execution_count": 45,
     "metadata": {},
     "output_type": "execute_result"
    }
   ],
   "source": [
    "np.insert(arr,3,7) # insert value at specific index\n",
    "# array,index,value"
   ]
  },
  {
   "cell_type": "markdown",
   "id": "33df4930-0582-4438-841f-759c1b3ea49f",
   "metadata": {},
   "source": [
    "## Deleting"
   ]
  },
  {
   "cell_type": "code",
   "execution_count": 46,
   "id": "41a3d1e7-79dc-40ab-8bcc-08640d7de16e",
   "metadata": {},
   "outputs": [
    {
     "data": {
      "text/plain": [
       "array([1, 2, 4])"
      ]
     },
     "execution_count": 46,
     "metadata": {},
     "output_type": "execute_result"
    }
   ],
   "source": [
    "np.delete(arr,2)"
   ]
  },
  {
   "cell_type": "markdown",
   "id": "a45f9bf9-36c6-48e4-9c6e-7a25b339500f",
   "metadata": {},
   "source": [
    "# Search, Sort and Filter an array"
   ]
  },
  {
   "cell_type": "markdown",
   "id": "5bd98513-aa53-4f9f-8a22-4e9b331dcfb0",
   "metadata": {},
   "source": [
    "## Sort array"
   ]
  },
  {
   "cell_type": "code",
   "execution_count": 47,
   "id": "d9c7f551-331c-4ab2-9943-bf801133ba7f",
   "metadata": {},
   "outputs": [
    {
     "data": {
      "text/plain": [
       "array([1, 2, 3, 5, 6, 8, 9])"
      ]
     },
     "execution_count": 47,
     "metadata": {},
     "output_type": "execute_result"
    }
   ],
   "source": [
    "arr = np.array([3,5,2,8,6,9,1])\n",
    "np.sort(arr)"
   ]
  },
  {
   "cell_type": "markdown",
   "id": "9e397630-01b4-4f81-97c1-1f90597c87ac",
   "metadata": {},
   "source": [
    "## Search"
   ]
  },
  {
   "cell_type": "code",
   "execution_count": 48,
   "id": "438ffaef-03cb-48ec-ad59-746eafba775a",
   "metadata": {},
   "outputs": [
    {
     "data": {
      "text/plain": [
       "(array([4], dtype=int64),)"
      ]
     },
     "execution_count": 48,
     "metadata": {},
     "output_type": "execute_result"
    }
   ],
   "source": [
    "np.where(arr == 6)"
   ]
  },
  {
   "cell_type": "markdown",
   "id": "2abce202-e89c-4d3b-ba3c-0c9740fec905",
   "metadata": {},
   "source": [
    "## Filter"
   ]
  },
  {
   "cell_type": "code",
   "execution_count": 49,
   "id": "637c7f6f-284b-4407-b7f4-cf70cdb1b344",
   "metadata": {},
   "outputs": [
    {
     "name": "stdout",
     "output_type": "stream",
     "text": [
      "8\n",
      "8\n",
      "[3 8 1 7]\n"
     ]
    }
   ],
   "source": [
    "arr = np.array([3,2,6,8,1,5,9,7])\n",
    "print(np.size(arr))\n",
    "flags = [True, False, False, True, True, False, False, True]\n",
    "print(len(flags))\n",
    "print(arr[flags])"
   ]
  },
  {
   "cell_type": "code",
   "execution_count": 50,
   "id": "ae3c7a3f-4763-444c-aae3-a33c22b2dd9c",
   "metadata": {},
   "outputs": [
    {
     "name": "stdout",
     "output_type": "stream",
     "text": [
      "[5 6 7 8 9]\n"
     ]
    }
   ],
   "source": [
    "arr = np.array([3,2,6,8,1,5,9,7])\n",
    "fa = arr>=5\n",
    "arr2 = np.sort(arr[fa])\n",
    "print(arr2)\n",
    "\n"
   ]
  },
  {
   "cell_type": "markdown",
   "id": "ccf93cd4-5e86-41ce-9afa-e2cbde6951c0",
   "metadata": {},
   "source": [
    "# Aggregating functions in arrays"
   ]
  },
  {
   "cell_type": "code",
   "execution_count": 51,
   "id": "2c6c7dad-bba2-4fb5-80f9-af61c5405c79",
   "metadata": {},
   "outputs": [
    {
     "name": "stdout",
     "output_type": "stream",
     "text": [
      "[40 30 60 80 90 10 20 50 70] [ 50  33 194 122  47  83  25  84  92]\n",
      "\n",
      "[[   40    30    60    80    90    10    20    50    70]\n",
      " [ 2000   990 11640  9760  4230   830   500  4200  6440]]\n"
     ]
    }
   ],
   "source": [
    "price = np.array([40,30,60,80,90,10,20,50,70])\n",
    "quantity = np.array([50,33,194,122,47,83,25,84,92])\n",
    "print(price, quantity)\n",
    "print()\n",
    "print(np.cumprod([price, quantity], axis = 0))"
   ]
  },
  {
   "cell_type": "code",
   "execution_count": 52,
   "id": "2c514882-3e9a-4eb4-a9da-ff595d32bf07",
   "metadata": {},
   "outputs": [
    {
     "name": "stdout",
     "output_type": "stream",
     "text": [
      "63.0\n",
      "4\n",
      "234\n",
      "756\n",
      "794820608\n",
      "[  4  69 303 370 382 468 558 614 646 658 684 756]\n",
      "[          4         260       60840     4076280    48915360   -88246336\n",
      "   647764352  1915065344  1152548864   945684480 -1182007296   794820608]\n"
     ]
    }
   ],
   "source": [
    "arr = np.array([4,65,234,67,12,86,90,56,32,12,26,72])\n",
    "print(np.mean(arr))\n",
    "print(np.min(arr))\n",
    "print(np.max(arr))\n",
    "print(np.sum(arr))\n",
    "print(np.prod(arr))\n",
    "print(np.cumsum(arr))\n",
    "print(np.cumprod(arr))"
   ]
  },
  {
   "cell_type": "markdown",
   "id": "81d3a6c2-e00d-4480-ba54-c0c18f7657b8",
   "metadata": {},
   "source": [
    "# Statistical Functions"
   ]
  },
  {
   "cell_type": "code",
   "execution_count": 53,
   "id": "9df2b8a0-d0ff-46d7-b387-6496ced01fed",
   "metadata": {},
   "outputs": [],
   "source": [
    "import statistics as stats"
   ]
  },
  {
   "cell_type": "code",
   "execution_count": 54,
   "id": "ba3d345f-d951-468e-afac-f9608b44107d",
   "metadata": {},
   "outputs": [
    {
     "data": {
      "text/plain": [
       "212.5375"
      ]
     },
     "execution_count": 54,
     "metadata": {},
     "output_type": "execute_result"
    }
   ],
   "source": [
    "carbo = np.array([200,240,210,280.300,245,180,170,175])\n",
    "np.mean(carbo)"
   ]
  },
  {
   "cell_type": "code",
   "execution_count": 55,
   "id": "6ea1c23c-ee4b-440d-b420-2523db8dd727",
   "metadata": {},
   "outputs": [
    {
     "data": {
      "text/plain": [
       "205.0"
      ]
     },
     "execution_count": 55,
     "metadata": {},
     "output_type": "execute_result"
    }
   ],
   "source": [
    "np.median(carbo)"
   ]
  },
  {
   "cell_type": "code",
   "execution_count": 57,
   "id": "132ee610-58c2-4d49-a9e4-d2c2c7d5094e",
   "metadata": {},
   "outputs": [
    {
     "data": {
      "text/plain": [
       "200.0"
      ]
     },
     "execution_count": 57,
     "metadata": {},
     "output_type": "execute_result"
    }
   ],
   "source": [
    "stats.mode(carbo)"
   ]
  },
  {
   "cell_type": "code",
   "execution_count": 58,
   "id": "a5b7cc70-3f84-46f0-bf1a-cf9d5b0e214c",
   "metadata": {},
   "outputs": [
    {
     "data": {
      "text/plain": [
       "36.811307281187396"
      ]
     },
     "execution_count": 58,
     "metadata": {},
     "output_type": "execute_result"
    }
   ],
   "source": [
    "np.std(carbo)"
   ]
  },
  {
   "cell_type": "code",
   "execution_count": 59,
   "id": "460a6482-3aea-499b-81e1-b75cedf09639",
   "metadata": {},
   "outputs": [
    {
     "data": {
      "text/plain": [
       "1355.07234375"
      ]
     },
     "execution_count": 59,
     "metadata": {},
     "output_type": "execute_result"
    }
   ],
   "source": [
    "np.var(carbo)"
   ]
  },
  {
   "cell_type": "markdown",
   "id": "a364aa97-3540-4da3-9dbb-0fd592c90c32",
   "metadata": {},
   "source": [
    "* -1 represents inversely proportional relationship\n",
    "* 1 represents proportional relationship\n",
    "* 0 represents no relationship "
   ]
  },
  {
   "cell_type": "code",
   "execution_count": 62,
   "id": "1b6dd6ed-c3b2-4678-856e-854cc9a70ce2",
   "metadata": {},
   "outputs": [
    {
     "data": {
      "text/plain": [
       "array([[1.        , 0.33549096],\n",
       "       [0.33549096, 1.        ]])"
      ]
     },
     "execution_count": 62,
     "metadata": {},
     "output_type": "execute_result"
    }
   ],
   "source": [
    "tc = np.array([30,50,40,45,60,36,65,40])\n",
    "deatsh = np.array([100,120,110,135,110,100,112,110])\n",
    "np.corrcoef([tc,deatsh])"
   ]
  },
  {
   "cell_type": "code",
   "execution_count": 63,
   "id": "c3b430ea-ea56-448a-a35c-2f01f46f1415",
   "metadata": {},
   "outputs": [
    {
     "data": {
      "text/plain": [
       "array([[ 1.        , -0.97991524],\n",
       "       [-0.97991524,  1.        ]])"
      ]
     },
     "execution_count": 63,
     "metadata": {},
     "output_type": "execute_result"
    }
   ],
   "source": [
    "price = np.array([100, 150,160,130,190,170,200,250])\n",
    "sale = np.array([15, 12, 10, 13, 8, 9, 7, 5])\n",
    "np.corrcoef([price,sale])"
   ]
  },
  {
   "cell_type": "code",
   "execution_count": null,
   "id": "3d70efd5-eaaa-4572-83fb-058a801d0ee3",
   "metadata": {},
   "outputs": [],
   "source": []
  },
  {
   "cell_type": "code",
   "execution_count": null,
   "id": "d4ea949b-5d1a-4028-b9f0-a35760abaea9",
   "metadata": {},
   "outputs": [],
   "source": []
  },
  {
   "cell_type": "code",
   "execution_count": null,
   "id": "140e86bc-f74a-4171-b547-2435b0f6fcc4",
   "metadata": {},
   "outputs": [],
   "source": []
  },
  {
   "cell_type": "code",
   "execution_count": null,
   "id": "a295f3a4-f14e-4fbe-a267-d52d6c93f3a9",
   "metadata": {},
   "outputs": [],
   "source": []
  },
  {
   "cell_type": "code",
   "execution_count": null,
   "id": "7c66812b-b672-480a-8b23-ed8b1e78e9b3",
   "metadata": {},
   "outputs": [],
   "source": []
  },
  {
   "cell_type": "code",
   "execution_count": null,
   "id": "4ac2fdb8-8ad0-4e3a-8a01-74f640a6b3c0",
   "metadata": {},
   "outputs": [],
   "source": []
  },
  {
   "cell_type": "code",
   "execution_count": null,
   "id": "8e5a7b9f-dae1-4933-9230-806eadcf0b53",
   "metadata": {},
   "outputs": [],
   "source": []
  },
  {
   "cell_type": "code",
   "execution_count": null,
   "id": "6146f015-2a24-4c24-ae52-f6811923f2a7",
   "metadata": {},
   "outputs": [],
   "source": []
  },
  {
   "cell_type": "code",
   "execution_count": null,
   "id": "b4536b7d-c38d-43a8-94fa-0cd43479ef69",
   "metadata": {},
   "outputs": [],
   "source": []
  },
  {
   "cell_type": "code",
   "execution_count": null,
   "id": "5900112a-3df1-4d08-b7f1-c118e586e87b",
   "metadata": {},
   "outputs": [],
   "source": []
  },
  {
   "cell_type": "code",
   "execution_count": null,
   "id": "b57baa31-91fc-48f8-b94a-d9ea2aa07740",
   "metadata": {},
   "outputs": [],
   "source": []
  },
  {
   "cell_type": "code",
   "execution_count": null,
   "id": "47121d3a-d8eb-4a64-9c0e-4038d73f853c",
   "metadata": {},
   "outputs": [],
   "source": []
  },
  {
   "cell_type": "code",
   "execution_count": null,
   "id": "b8eeeabb-dcb7-4a67-a786-82ea8caa1b96",
   "metadata": {},
   "outputs": [],
   "source": []
  }
 ],
 "metadata": {
  "kernelspec": {
   "display_name": "Python 3 (ipykernel)",
   "language": "python",
   "name": "python3"
  },
  "language_info": {
   "codemirror_mode": {
    "name": "ipython",
    "version": 3
   },
   "file_extension": ".py",
   "mimetype": "text/x-python",
   "name": "python",
   "nbconvert_exporter": "python",
   "pygments_lexer": "ipython3",
   "version": "3.11.4"
  },
  "widgets": {
   "application/vnd.jupyter.widget-state+json": {
    "state": {},
    "version_major": 2,
    "version_minor": 0
   }
  }
 },
 "nbformat": 4,
 "nbformat_minor": 5
}
