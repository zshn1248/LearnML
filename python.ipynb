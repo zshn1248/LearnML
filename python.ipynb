{
 "cells": [
  {
   "cell_type": "markdown",
   "id": "b224a466-c3f4-4344-b18f-4ee460e241ac",
   "metadata": {},
   "source": [
    "# First program in python"
   ]
  },
  {
   "cell_type": "code",
   "execution_count": 1,
   "id": "f97b4a5d-c48f-425d-8dea-c6ca5b55b391",
   "metadata": {},
   "outputs": [
    {
     "name": "stdout",
     "output_type": "stream",
     "text": [
      "Hello world\n"
     ]
    }
   ],
   "source": [
    "print(\"Hello world\")"
   ]
  },
  {
   "cell_type": "markdown",
   "id": "86e11caf-4e78-4fad-bbed-32e3bfd087cf",
   "metadata": {
    "jp-MarkdownHeadingCollapsed": true
   },
   "source": [
    "# Definitions\n",
    "## Keywords\n",
    "Keywords are reserved words in python\n",
    "\n",
    "* and\n",
    "* as\n",
    "* assert\n",
    "* break\n",
    "* class\n",
    "* continue\n",
    "* def\n",
    "* del\n",
    "* elif\n",
    "* else\n",
    "* except\n",
    "* finally\n",
    "* False\n",
    "* for\n",
    "* from\n",
    "* global\n",
    "* if\n",
    "* import\n",
    "* in\n",
    "* is\n",
    "* lambda\n",
    "* nonlocal\n",
    "* None\n",
    "* not\n",
    "* or\n",
    "* pass\n",
    "* raise\n",
    "* return\n",
    "* True\n",
    "* try\n",
    "* with\n",
    "* while\n",
    "* yield\n",
    "## Types of Tokens\n",
    "  ### Punctuators\n",
    "  Punctuators are symbols to organize sentence structure in programming.\n",
    "  ## Expression Execution\n",
    "  * String & Numeric values can operate together with *\n",
    "    ``` python\n",
    "    a,b = 2,3\n",
    "    txt = \"@\"\n",
    "    print(a*txt*b)\n",
    "    ```\n",
    "  * String & String can operate with +\n",
    "    ``` python\n",
    "    a,b = \"2\",3\n",
    "    txt = \"@\"\n",
    "    print((a+txt)*b)\n",
    "    ```\n",
    "  * Numeric values can operate with all arithemetic operators\n",
    "    ``` python\n",
    "    a,b = 2,3\n",
    "    c = 4\n",
    "    print(a+b*c)\n",
    "    ```\n",
    "  * Arithmetic expression with Integer and float will result in float\n",
    "    ``` python\n",
    "    a,b = 10,5.0\n",
    "    c = a*b\n",
    "    print(c)\n",
    "    ```\n",
    "  * Result of division operator with two integers will be float\n",
    "    ``` python \n",
    "    a,b = 1,2\n",
    "    c = a/b\n",
    "    print(c)\n",
    "    ```\n",
    "  * Integer division with float and int will give int displayed as float\n",
    "    ``` python\n",
    "    a,b = 1.5,3\n",
    "    c = a//b\n",
    "    print(c, a/b)\n",
    "    ```\n",
    "  * Floor gives closest integer, which is lesser than or equal to the float value\n",
    "    Reslut of (a//b) is same as floor(a/b)\n",
    "    ``` python\n",
    "    a,b = 12,5\n",
    "    c = a//b\n",
    "    print(c)\n",
    "    ```\n",
    "    _________\n",
    "    ``` python\n",
    "    a,b = 12,5\n",
    "    c = a//b\n",
    "    print(c)\n",
    "    ```\n",
    "    _________\n",
    "    ``` python\n",
    "    a,b = 12,-5\n",
    "    c = a//b\n",
    "    print(c)\n",
    "    ```\n",
    "  * Remainder is negative when denominator is negative\n",
    "    ``` python\n",
    "    a,b = -5,2\n",
    "    c = a%b\n",
    "    print(c)\n",
    "    ```\n",
    "    _________\n",
    "    ``` python\n",
    "    a,b = 5,2\n",
    "    c = a%b\n",
    "    print(c)\n",
    "    ```\n",
    "    ________\n",
    "    ``` python\n",
    "    a,b = 5,-2\n",
    "    c = a%b\n",
    "    print(c)\n",
    "    ```\n",
    "## Input in Python\n",
    "`input()` statement is used to accept values(using keyboard) from user.\n",
    "## Types of Operators\n",
    "An operator is a symbol that performs a certain operation between two operands.\n",
    "* Arithmetic Operator (+,-,*,/,%,**)\n",
    "* Relational / Comparison Operators (==, !=, >, <, >=, <=)\n",
    "* Assignment Operators (=. +=, -=, *=, /=, %=, **=)\n",
    "* Logical Operators (`not`, `and`, `or`)\n",
    "## Lists in Python\n",
    "A built-in data type that stores set of values.\n",
    "It can store elements of different types (int, float, str, etc...)\n",
    "```\n",
    "marks = [46,73,93,74,82,91]\n",
    "```\n",
    "## Tuples in Python\n",
    "A built-in data type that lets us create immutable sequences of values.\n",
    "``` python\n",
    "mytup = (2,4,6,1,4,3,8)\n",
    "```\n",
    "## Dictionary in Python\n",
    "Dictionaries are used to store data values in `key:value` pairs.\n",
    "They are unordered, mutable(Changeable) & don't allow duplicate keys.\n"
   ]
  },
  {
   "cell_type": "markdown",
   "id": "b92e8cde-0d16-476f-a3b9-96d3e9381d10",
   "metadata": {},
   "source": [
    "# Variables"
   ]
  },
  {
   "cell_type": "code",
   "execution_count": 2,
   "id": "a2097a60-2bae-4443-aeb9-61e39dc4a2b5",
   "metadata": {},
   "outputs": [
    {
     "name": "stdout",
     "output_type": "stream",
     "text": [
      "My name is Zeeshan \n",
      " I am learning Machine Learning\n"
     ]
    }
   ],
   "source": [
    "name = \"Zeeshan\"\n",
    "field = \"Machine Learning\"\n",
    "print(\"My name is\",name, \"\\n\", \"I am learning\",field)"
   ]
  },
  {
   "cell_type": "markdown",
   "id": "9ed04dcb-c0cd-4c44-a139-d377e56f191d",
   "metadata": {},
   "source": [
    "## Sum"
   ]
  },
  {
   "cell_type": "code",
   "execution_count": 9,
   "id": "d310e644-b873-4399-bd8f-28ef47475822",
   "metadata": {},
   "outputs": [
    {
     "data": {
      "text/plain": [
       "8"
      ]
     },
     "execution_count": 9,
     "metadata": {},
     "output_type": "execute_result"
    }
   ],
   "source": [
    "a = 3\n",
    "b = 5\n",
    "sum = a + b\n",
    "sum"
   ]
  },
  {
   "cell_type": "markdown",
   "id": "8b2d3f82-6292-4600-b4c3-7b61ddbb5ec3",
   "metadata": {},
   "source": [
    "# Datatypes\n",
    "## Primary Datatypes\n",
    "* int\n",
    "* str\n",
    "* float\n",
    "* bool\n",
    "* none"
   ]
  },
  {
   "cell_type": "code",
   "execution_count": 3,
   "id": "591d2ea0-befc-4460-b6b7-e89e55bb0872",
   "metadata": {},
   "outputs": [
    {
     "data": {
      "text/plain": [
       "int"
      ]
     },
     "execution_count": 3,
     "metadata": {},
     "output_type": "execute_result"
    }
   ],
   "source": [
    "a = 12\n",
    "type(a)"
   ]
  },
  {
   "cell_type": "code",
   "execution_count": 4,
   "id": "e58b0c65-f822-4f0d-bec4-b4ae3325a727",
   "metadata": {},
   "outputs": [
    {
     "data": {
      "text/plain": [
       "str"
      ]
     },
     "execution_count": 4,
     "metadata": {},
     "output_type": "execute_result"
    }
   ],
   "source": [
    "name = \"Zeeshan\"\n",
    "type(name)"
   ]
  },
  {
   "cell_type": "code",
   "execution_count": 5,
   "id": "06461093-50eb-4884-956b-5a96674693e3",
   "metadata": {},
   "outputs": [
    {
     "data": {
      "text/plain": [
       "float"
      ]
     },
     "execution_count": 5,
     "metadata": {},
     "output_type": "execute_result"
    }
   ],
   "source": [
    "salary = 18.3\n",
    "type(salary)"
   ]
  },
  {
   "cell_type": "code",
   "execution_count": 7,
   "id": "94c02a3f-e625-4a6d-90cf-272ed31e9aab",
   "metadata": {},
   "outputs": [
    {
     "data": {
      "text/plain": [
       "bool"
      ]
     },
     "execution_count": 7,
     "metadata": {},
     "output_type": "execute_result"
    }
   ],
   "source": [
    "old = False\n",
    "type(old)"
   ]
  },
  {
   "cell_type": "code",
   "execution_count": 8,
   "id": "4d1c2340-b406-42ac-91f1-c7422fc9592c",
   "metadata": {},
   "outputs": [
    {
     "data": {
      "text/plain": [
       "NoneType"
      ]
     },
     "execution_count": 8,
     "metadata": {},
     "output_type": "execute_result"
    }
   ],
   "source": [
    "b = None\n",
    "type(b)"
   ]
  },
  {
   "cell_type": "markdown",
   "id": "377677ff-252b-4972-9214-a1b94c081603",
   "metadata": {},
   "source": [
    "## conditional statements\n",
    "* if\n",
    "* elif\n",
    "* else"
   ]
  },
  {
   "cell_type": "code",
   "execution_count": 11,
   "id": "6138a814-a8c9-4b15-b7a2-e572c4f1b00d",
   "metadata": {},
   "outputs": [
    {
     "name": "stdin",
     "output_type": "stream",
     "text": [
      "Enter color:  green\n"
     ]
    },
    {
     "name": "stdout",
     "output_type": "stream",
     "text": [
      "You can go now\n"
     ]
    }
   ],
   "source": [
    "color = input(\"Enter color: \")\n",
    "if color == \"red\":\n",
    "    print(\"Stop\")\n",
    "elif color == \"green\":\n",
    "    print(\"You can go now\")\n",
    "elif color == \"yellow\":\n",
    "    print(\"Slow down\")\n",
    "else:\n",
    "    print(\"Light is broken\")"
   ]
  },
  {
   "cell_type": "code",
   "execution_count": 14,
   "id": "7e013bcb-ef9a-48f2-b794-2de58d85b431",
   "metadata": {},
   "outputs": [
    {
     "name": "stdin",
     "output_type": "stream",
     "text": [
      "Enter your marks:  10\n"
     ]
    },
    {
     "name": "stdout",
     "output_type": "stream",
     "text": [
      "D\n"
     ]
    }
   ],
   "source": [
    "grade = \"empty\"\n",
    "marks = int(input(\"Enter your marks: \"))\n",
    "if marks >= 90:\n",
    "    grade = \"A\"\n",
    "elif marks >= 80 and marks < 90:\n",
    "    grade = \"B\"\n",
    "elif marks >= 70 and marks < 80:\n",
    "    grade = \"C\"\n",
    "elif marks <= 60:\n",
    "    grade = \"D\"\n",
    "print(grade)"
   ]
  },
  {
   "cell_type": "code",
   "execution_count": 1,
   "id": "4dab92ec-b8d4-4c6b-bd7b-5724713a8b38",
   "metadata": {},
   "outputs": [
    {
     "name": "stdin",
     "output_type": "stream",
     "text": [
      "Enter your marks:  20\n"
     ]
    }
   ],
   "source": [
    "grade = \"empty\"\n",
    "marks = int(input(\"Enter your marks: \"))\n",
    "if marks >= 90:\n",
    "    grade = \"A\"\n",
    "elif marks >= 80 and marks < 90:\n",
    "    grade = \"B\"\n",
    "elif marks >= 70 and marks < 80:\n",
    "    grade = \"C\"\n",
    "elif marks <= 60:\n",
    "    grade = \"D\"\n",
    "print(grade)"
   ]
  },
  {
   "cell_type": "code",
   "execution_count": 7,
   "id": "57ec1b23-613f-474b-b48c-026944574e14",
   "metadata": {},
   "outputs": [
    {
     "name": "stdin",
     "output_type": "stream",
     "text": [
      "Enter light color:  blue\n"
     ]
    },
    {
     "name": "stdout",
     "output_type": "stream",
     "text": [
      "Invalid Signal Color\n"
     ]
    }
   ],
   "source": [
    "light = input(\"Enter light color: \")\n",
    "action = [\"Stop\", \"Go\", \"Slow\"]\n",
    "if light != \"red\" and light != \"green\" and light != \"yellow\":\n",
    "    action = \"Invalid Signal Color\"\n",
    "elif light == \"red\":\n",
    "    action = action[0]\n",
    "elif light == \"green\":\n",
    "    action = action[1]\n",
    "elif light == \"yellow\":\n",
    "    action = action[2]\n",
    "print(action)"
   ]
  },
  {
   "cell_type": "code",
   "execution_count": 9,
   "id": "bba6ec48-f105-4c44-8ddd-dccc39bdb07a",
   "metadata": {},
   "outputs": [
    {
     "name": "stdin",
     "output_type": "stream",
     "text": [
      "Enter marks:  90\n"
     ]
    },
    {
     "name": "stdout",
     "output_type": "stream",
     "text": [
      "Your Grade is A\n"
     ]
    }
   ],
   "source": [
    "# Grade Students based on marks\n",
    "marks = int(input(\"Enter marks: \"))\n",
    "if marks >= 90:\n",
    "    grade = \"A\"\n",
    "elif marks >= 80:\n",
    "    grade = \"B\"\n",
    "elif marks >= 70:\n",
    "    grade = \"C\"\n",
    "else:\n",
    "    grade = \"D\"\n",
    "print(\"Your Grade is \"+grade)\n",
    "    "
   ]
  },
  {
   "cell_type": "code",
   "execution_count": 11,
   "id": "af6dc61b-51c6-4472-962c-d8779c0c5578",
   "metadata": {},
   "outputs": [
    {
     "name": "stdin",
     "output_type": "stream",
     "text": [
      "Enter Number:  3\n"
     ]
    },
    {
     "name": "stdout",
     "output_type": "stream",
     "text": [
      "3 is odd\n"
     ]
    }
   ],
   "source": [
    "# Write a program to check if a number entered by the user is odd or even.\n",
    "num = int(input(\"Enter Number: \"))\n",
    "if num % 2 == 0:\n",
    "    print(num, \"is even\")\n",
    "else:\n",
    "    print(num, \"is odd\")"
   ]
  },
  {
   "cell_type": "code",
   "execution_count": 13,
   "id": "8e12168e-68d9-4971-b349-9735e37cfd64",
   "metadata": {},
   "outputs": [
    {
     "name": "stdin",
     "output_type": "stream",
     "text": [
      "Enter a number:  17\n"
     ]
    },
    {
     "name": "stdout",
     "output_type": "stream",
     "text": [
      "17 is not a multiple of 7\n"
     ]
    }
   ],
   "source": [
    "# Write a program to check if a number is a multiple of 7 or not.\n",
    "num = int(input(\"Enter a number: \"))\n",
    "if num % 7 == 0:\n",
    "    print(num, \"is multiple of 7\")\n",
    "else:\n",
    "    print(num, \"is not a multiple of 7\")"
   ]
  },
  {
   "cell_type": "code",
   "execution_count": 16,
   "id": "536186c2-ed82-4d8b-88d0-18c98925ebdd",
   "metadata": {},
   "outputs": [
    {
     "name": "stdin",
     "output_type": "stream",
     "text": [
      "Enter a:  1\n",
      "Enter b:  3\n",
      "Enter c:  2\n"
     ]
    },
    {
     "name": "stdout",
     "output_type": "stream",
     "text": [
      "3 is greatest number\n"
     ]
    }
   ],
   "source": [
    "# Write a program to find the greatest of 3 numbers entered by the user.\n",
    "a = int(input(\"Enter a: \"))\n",
    "b = int(input(\"Enter b: \"))\n",
    "c = int(input(\"Enter c: \"))\n",
    "if a >= b and a >= c:\n",
    "    print(a,\"is greatest number\")\n",
    "elif b >= c:\n",
    "    print(b,\"is greatest number\")\n",
    "elif c >= a and c >= b:\n",
    "    print(c,\"is greatest number\")\n"
   ]
  },
  {
   "cell_type": "markdown",
   "id": "944fcc2c-5d6d-4da1-bad2-8b9c2f6b124a",
   "metadata": {},
   "source": [
    "### Single line If / Ternary Operator"
   ]
  },
  {
   "cell_type": "code",
   "execution_count": 25,
   "id": "65316359-694c-4ef5-8ee9-4e3d2d82a4d7",
   "metadata": {},
   "outputs": [
    {
     "name": "stdin",
     "output_type": "stream",
     "text": [
      "Enter your grade:  A\n"
     ]
    },
    {
     "name": "stdout",
     "output_type": "stream",
     "text": [
      "90\n"
     ]
    }
   ],
   "source": [
    "grade = input(\"Enter your grade: \")\n",
    "marks = 90 if grade == \"A\" else \"I dont know\"\n",
    "print(marks)"
   ]
  },
  {
   "cell_type": "markdown",
   "id": "867ec7d3-aa49-4c7d-82c9-dad1f8e5d508",
   "metadata": {},
   "source": [
    "### Clever if / Ternary Operator"
   ]
  },
  {
   "cell_type": "code",
   "execution_count": 31,
   "id": "6f63ce96-3f27-4fe1-96c3-0ecf33313905",
   "metadata": {},
   "outputs": [
    {
     "name": "stdin",
     "output_type": "stream",
     "text": [
      "Enter your age:  17\n"
     ]
    },
    {
     "name": "stdout",
     "output_type": "stream",
     "text": [
      "no vote\n"
     ]
    }
   ],
   "source": [
    "age = int(input(\"Enter your age: \"))\n",
    "vote = (\"vote\", \"no vote\") [age < 18]\n",
    "print(vote)"
   ]
  },
  {
   "cell_type": "code",
   "execution_count": 34,
   "id": "c07c16fc-af13-46d2-8853-f8ee70e7a533",
   "metadata": {},
   "outputs": [
    {
     "name": "stdin",
     "output_type": "stream",
     "text": [
      "Enter your salary:  40000\n"
     ]
    },
    {
     "name": "stdout",
     "output_type": "stream",
     "text": [
      "4000.0\n"
     ]
    }
   ],
   "source": [
    "salary =float(input(\"Enter your salary: \"))\n",
    "tax = salary*(0.1,0.2) [salary> 50000]\n",
    "print(tax)"
   ]
  },
  {
   "cell_type": "markdown",
   "id": "c2838dce-6641-446a-aff0-b3db16dc9c53",
   "metadata": {},
   "source": [
    "## Operators\n",
    "### Arithmetic Operators"
   ]
  },
  {
   "cell_type": "code",
   "execution_count": 1,
   "id": "76580a6c-376c-47a3-846f-775a2607b6eb",
   "metadata": {},
   "outputs": [
    {
     "name": "stdout",
     "output_type": "stream",
     "text": [
      "8\n",
      "2\n",
      "15\n",
      "125\n",
      "1.6666666666666667\n",
      "1\n",
      "2\n"
     ]
    }
   ],
   "source": [
    "a = 5\n",
    "b = 3\n",
    "\n",
    "print(a + b)\n",
    "print(a - b)\n",
    "print(a * b)\n",
    "print(a**b)\n",
    "print(a / b)\n",
    "print(a//b)\n",
    "print(a%b)"
   ]
  },
  {
   "cell_type": "markdown",
   "id": "fe8e3c78-c76e-42fc-aa4f-98a598ddec1a",
   "metadata": {},
   "source": [
    "### Relational Operators"
   ]
  },
  {
   "cell_type": "code",
   "execution_count": 2,
   "id": "364b73b1-766d-420f-b1b3-55d3535bc1cc",
   "metadata": {},
   "outputs": [
    {
     "name": "stdout",
     "output_type": "stream",
     "text": [
      "False\n",
      "True\n",
      "True\n",
      "False\n",
      "True\n",
      "False\n"
     ]
    }
   ],
   "source": [
    "a = 70\n",
    "b = 40\n",
    "print(a == b)\n",
    "print( a != b)\n",
    "print(a >= b)\n",
    "print(a <= b)\n",
    "print(a > b)\n",
    "print(a < b)"
   ]
  },
  {
   "cell_type": "markdown",
   "id": "02659777-d112-4426-8fad-7a872f416576",
   "metadata": {},
   "source": [
    "### Assignmet Operators"
   ]
  },
  {
   "cell_type": "code",
   "execution_count": 5,
   "id": "85a72b04-b9d8-4426-8e90-908a3c16eefa",
   "metadata": {},
   "outputs": [
    {
     "name": "stdout",
     "output_type": "stream",
     "text": [
      "20\n",
      "0\n",
      "100\n",
      "1.0\n",
      "1\n",
      "10000000000\n",
      "0\n"
     ]
    }
   ],
   "source": [
    "num = 10\n",
    "num += 10\n",
    "print(num)\n",
    "num = 10\n",
    "num -= 10\n",
    "print(num)\n",
    "num = 10\n",
    "num *= 10\n",
    "print(num)\n",
    "num = 10\n",
    "num /= 10\n",
    "print(num)\n",
    "num = 10\n",
    "num //= 10\n",
    "print(num)\n",
    "num = 10\n",
    "num **= 10\n",
    "print(num)\n",
    "num = 10\n",
    "num %= 10\n",
    "print(num)\n",
    "\n"
   ]
  },
  {
   "cell_type": "markdown",
   "id": "438c7baf-1f21-4b46-a145-d84465719419",
   "metadata": {},
   "source": [
    "### Logical Operators"
   ]
  },
  {
   "cell_type": "code",
   "execution_count": 6,
   "id": "1e9ee6bb-38ea-4948-a139-74757b21c637",
   "metadata": {},
   "outputs": [
    {
     "name": "stdout",
     "output_type": "stream",
     "text": [
      "False\n",
      "False\n",
      "True\n"
     ]
    }
   ],
   "source": [
    "a = 10\n",
    "b = 5\n",
    "print(not a > b)\n",
    "print(a > b and b > a)\n",
    "print(a > b or b > a)"
   ]
  },
  {
   "cell_type": "markdown",
   "id": "d26fd036-b7d1-4192-b0fd-3dc50644ff93",
   "metadata": {},
   "source": [
    "## Type conversion"
   ]
  },
  {
   "cell_type": "code",
   "execution_count": 9,
   "id": "5d41f4a4-5b49-4f49-96fb-bd15011f76ae",
   "metadata": {},
   "outputs": [
    {
     "name": "stdout",
     "output_type": "stream",
     "text": [
      "9.0\n",
      "9\n"
     ]
    }
   ],
   "source": [
    "a, b = 4,5.0\n",
    "sum = a + b\n",
    "print(sum)\n",
    "\n",
    "# Type casting\n",
    "a = int(\"3\")\n",
    "b = 6\n",
    "print(a + b)"
   ]
  },
  {
   "cell_type": "markdown",
   "id": "bfd4cf44-0a6a-4acc-bddf-c4ae28deb3c4",
   "metadata": {},
   "source": [
    "## Input"
   ]
  },
  {
   "cell_type": "code",
   "execution_count": 1,
   "id": "c9b79785-4107-4ddc-8fe5-2d0d1cbabaad",
   "metadata": {},
   "outputs": [
    {
     "name": "stdin",
     "output_type": "stream",
     "text": [
      "Enter your name:  Zeeshan\n",
      "Enter your age:  20\n",
      "Enter your marks:  0\n"
     ]
    },
    {
     "name": "stdout",
     "output_type": "stream",
     "text": [
      "Welcome Zeeshan\n",
      "age:  20\n",
      "Marks:  0.0\n"
     ]
    }
   ],
   "source": [
    "name = input(\"Enter your name: \")\n",
    "age = int(input(\"Enter your age: \"))\n",
    "marks = float(input(\"Enter your marks: \"))\n",
    "print(\"Welcome\", name)\n",
    "print(\"age: \", age)\n",
    "print(\"Marks: \", marks)"
   ]
  },
  {
   "cell_type": "code",
   "execution_count": 2,
   "id": "dcd3ea4a-b7e9-45d2-b599-78bc58ad6514",
   "metadata": {},
   "outputs": [
    {
     "name": "stdin",
     "output_type": "stream",
     "text": [
      "Enter number 1:  12\n",
      "Enter number 2:  48\n"
     ]
    },
    {
     "name": "stdout",
     "output_type": "stream",
     "text": [
      "60\n"
     ]
    }
   ],
   "source": [
    "# Write a program to input two numbers and print their sum\n",
    "num1 = int(input(\"Enter number 1: \"))\n",
    "num2 = int(input(\"Enter number 2: \"))\n",
    "sum = num1 + num2\n",
    "print(sum)"
   ]
  },
  {
   "cell_type": "code",
   "execution_count": 4,
   "id": "b060a0f3-a68c-4b86-9ee1-2faed208c3fd",
   "metadata": {},
   "outputs": [
    {
     "name": "stdin",
     "output_type": "stream",
     "text": [
      "Enter side of the square:  12\n"
     ]
    },
    {
     "name": "stdout",
     "output_type": "stream",
     "text": [
      "Area:  144.0\n"
     ]
    }
   ],
   "source": [
    "# Write a program to input side of a square and print its area\n",
    "side = float(input(\"Enter side of the square: \"))\n",
    "area = side * side\n",
    "print(\"Area: \", area)"
   ]
  },
  {
   "cell_type": "code",
   "execution_count": 6,
   "id": "0107960c-307b-4ec9-8d06-c948645b72e6",
   "metadata": {},
   "outputs": [
    {
     "name": "stdin",
     "output_type": "stream",
     "text": [
      "Enter first:  12\n",
      "Enter second:  45\n"
     ]
    },
    {
     "name": "stdout",
     "output_type": "stream",
     "text": [
      "Average:  28.5\n"
     ]
    }
   ],
   "source": [
    "# Write a program to input two floating point numbers and print their average.\n",
    "num1 = float(input(\"Enter first: \"))\n",
    "num2 = float(input(\"Enter second: \"))\n",
    "average = (num1 + num2)/2\n",
    "print(\"Average: \", average)"
   ]
  },
  {
   "cell_type": "code",
   "execution_count": 7,
   "id": "20580cdc-43cd-4b09-aa74-74b20f5f5354",
   "metadata": {},
   "outputs": [
    {
     "name": "stdin",
     "output_type": "stream",
     "text": [
      "First Number:  12\n",
      "Second Number:  3\n"
     ]
    },
    {
     "name": "stdout",
     "output_type": "stream",
     "text": [
      "True\n"
     ]
    }
   ],
   "source": [
    "# Write a program to input two int numbers, a and b.\n",
    "# Print True if a is greater than or equal to b.If not print False.\n",
    "num1 = int(input(\"First Number: \"))\n",
    "num2 = int(input(\"Second Number: \"))\n",
    "if num1>=num2:\n",
    "    print(True)\n",
    "else:\n",
    "    print(False)"
   ]
  },
  {
   "cell_type": "markdown",
   "id": "e0082b76-5f24-491a-9292-742ecfb846b9",
   "metadata": {},
   "source": [
    "## String\n",
    "String is data type that stores a sequence of characters.\n",
    "#### Basic Operations\n",
    "* concatenation\n",
    "  ``` \"hello\" + \"world\" ---> \"helloworld\"```\n",
    "* length of str\n",
    "  ``` len(str)```"
   ]
  },
  {
   "cell_type": "markdown",
   "id": "f959242a-64dc-4441-b64d-c2fdaf1df579",
   "metadata": {},
   "source": [
    "### Indexing in strings"
   ]
  },
  {
   "cell_type": "code",
   "execution_count": 8,
   "id": "bda3a6d5-98aa-4977-9c40-21a3f4fad37d",
   "metadata": {},
   "outputs": [
    {
     "name": "stdout",
     "output_type": "stream",
     "text": [
      "l\n"
     ]
    }
   ],
   "source": [
    "str1 = \"Virtual Infinity\"\n",
    "print(str1[6])"
   ]
  },
  {
   "cell_type": "markdown",
   "id": "4864b719-0a43-41d7-900c-3c3d62c4ee2a",
   "metadata": {},
   "source": [
    "### Slicing in string\n",
    "Accessing parts of a string"
   ]
  },
  {
   "cell_type": "code",
   "execution_count": 13,
   "id": "4fc60434-b0b6-4618-9f4e-8d893f6a86be",
   "metadata": {},
   "outputs": [
    {
     "name": "stdout",
     "output_type": "stream",
     "text": [
      "Infinity\n",
      "Virtual \n",
      "ytinifnI lautriV\n"
     ]
    }
   ],
   "source": [
    "myStr = \"Virtual Infinity\"\n",
    "print(myStr[8:])\n",
    "print(myStr[:8])\n",
    "print(myStr[::-1])"
   ]
  },
  {
   "cell_type": "markdown",
   "id": "01194332-3fcd-4bee-9dcf-f26a4db84c5d",
   "metadata": {},
   "source": [
    "### Basic functions in strings"
   ]
  },
  {
   "cell_type": "code",
   "execution_count": 14,
   "id": "f2f01b4e-9527-4754-8248-db0c5e26d3e8",
   "metadata": {},
   "outputs": [
    {
     "name": "stdout",
     "output_type": "stream",
     "text": [
      "True\n",
      "False\n"
     ]
    }
   ],
   "source": [
    "str = \"Virtual Infinity\"\n",
    "print(str.endswith(\"ty\"))\n",
    "print(str.endswith(\"py\"))"
   ]
  },
  {
   "cell_type": "code",
   "execution_count": 15,
   "id": "b4cd7abe-8e0c-4882-a5de-45d65511bbf3",
   "metadata": {},
   "outputs": [
    {
     "name": "stdout",
     "output_type": "stream",
     "text": [
      "Virtual infinity\n"
     ]
    }
   ],
   "source": [
    "str = \"virtual infinity\"\n",
    "print(str.capitalize())"
   ]
  },
  {
   "cell_type": "code",
   "execution_count": 16,
   "id": "8bffb2ca-57b3-4893-98ea-8c0a99b7a5ca",
   "metadata": {},
   "outputs": [
    {
     "name": "stdout",
     "output_type": "stream",
     "text": [
      "v!rtual !nf!n!ty\n"
     ]
    }
   ],
   "source": [
    "str = \"virtual infinity\"\n",
    "print(str.replace(\"i\", \"!\"))"
   ]
  },
  {
   "cell_type": "code",
   "execution_count": 17,
   "id": "d85cc9a3-7b37-4a7b-91f6-9c1cd9ce7833",
   "metadata": {},
   "outputs": [
    {
     "name": "stdout",
     "output_type": "stream",
     "text": [
      "6\n"
     ]
    }
   ],
   "source": [
    "  str = \"virtual infinity\"\n",
    "print(str.find(\"l\"))"
   ]
  },
  {
   "cell_type": "code",
   "execution_count": 18,
   "id": "8735eccb-f430-481e-a52e-9e0146982347",
   "metadata": {},
   "outputs": [
    {
     "name": "stdout",
     "output_type": "stream",
     "text": [
      "1\n"
     ]
    }
   ],
   "source": [
    "print(str.count(\"virtual\"))"
   ]
  },
  {
   "cell_type": "markdown",
   "id": "1abcd8d6-aa6c-489e-bd2c-d01a0dc892cc",
   "metadata": {},
   "source": [
    "#### Practice"
   ]
  },
  {
   "cell_type": "code",
   "execution_count": 20,
   "id": "c9d2f6b8-0a5e-4725-8e86-e601334d16f7",
   "metadata": {},
   "outputs": [
    {
     "name": "stdin",
     "output_type": "stream",
     "text": [
      "Enter your first name:  Zeeshan\n"
     ]
    },
    {
     "name": "stdout",
     "output_type": "stream",
     "text": [
      "Length:  7\n"
     ]
    }
   ],
   "source": [
    "# Write a program to input user's first name and print its length\n",
    "firstName = input(\"Enter your first name: \")\n",
    "nameLen = len(firstName)\n",
    "print(\"Length: \", nameLen)"
   ]
  },
  {
   "cell_type": "code",
   "execution_count": 22,
   "id": "0d266ecb-f480-442d-a143-13a393d54809",
   "metadata": {},
   "outputs": [
    {
     "name": "stdout",
     "output_type": "stream",
     "text": [
      "3\n"
     ]
    }
   ],
   "source": [
    "# Write a program to find the occurrence of $ in a string\n",
    "myStr = \"thi$ i$ $tring\"\n",
    "print(myStr.count(\"$\"))"
   ]
  },
  {
   "cell_type": "markdown",
   "id": "d580f16c-9f2b-4fea-9615-16e9b12eb9a9",
   "metadata": {},
   "source": [
    "## List Methods\n",
    "``` python\n",
    "list = [3,4,5,6]\n",
    "list.append(7)\n",
    "list.sort()\n",
    "list.sort(reverse = True)\n",
    "list.reverse()\n",
    "list.insert(index, value)\n",
    "```"
   ]
  },
  {
   "cell_type": "code",
   "execution_count": 1,
   "id": "a6cf6912-8c73-41b8-9ef5-a7eab9b046f6",
   "metadata": {},
   "outputs": [
    {
     "name": "stdout",
     "output_type": "stream",
     "text": [
      "[3, 4, 5, 6, 5]\n",
      "[3, 4, 5, 5, 6]\n",
      "[6, 5, 5, 4, 3]\n",
      "[3, 4, 5, 5, 6]\n",
      "[3, 4, 8, 5, 5, 6]\n",
      "[3, 8, 5, 5, 6]\n",
      "[3, 8, 5, 5]\n"
     ]
    }
   ],
   "source": [
    "x = [3,4,5,6]\n",
    "x.append(5)\n",
    "print(x)\n",
    "x.sort()\n",
    "print(x)\n",
    "x.sort(reverse = True)\n",
    "print(x)\n",
    "x.reverse()\n",
    "print(x)\n",
    "x.insert(2,8)\n",
    "print(x)\n",
    "x.remove(4)\n",
    "print(x)\n",
    "x.pop()\n",
    "print(x)"
   ]
  },
  {
   "cell_type": "markdown",
   "id": "74e8cb45-4d3c-4544-bd86-6362560bd20a",
   "metadata": {},
   "source": [
    "## Tuple Methods"
   ]
  },
  {
   "cell_type": "code",
   "execution_count": 5,
   "id": "5861597a-e612-44c4-8dbb-3a92e28893a1",
   "metadata": {},
   "outputs": [
    {
     "name": "stdout",
     "output_type": "stream",
     "text": [
      "3\n",
      "1\n"
     ]
    }
   ],
   "source": [
    "tup = (4,6,2,1,8,9,5)\n",
    "print(tup.index(1))\n",
    "print(tup.count(4))"
   ]
  },
  {
   "cell_type": "markdown",
   "id": "7b38ed12-810c-43ff-985a-0e3be5cf8d13",
   "metadata": {},
   "source": [
    "## Let's Practice List"
   ]
  },
  {
   "cell_type": "code",
   "execution_count": 6,
   "id": "37ba57e9-7eee-4294-819e-7ca961e8bb37",
   "metadata": {},
   "outputs": [
    {
     "name": "stdin",
     "output_type": "stream",
     "text": [
      "Enter your fav book:  JKP\n",
      "Enter your fav book 2:  Namal\n",
      "Enter your fav book 3:  Mushaf\n"
     ]
    },
    {
     "name": "stdout",
     "output_type": "stream",
     "text": [
      "['JKP', 'Namal', 'Mushaf']\n"
     ]
    }
   ],
   "source": [
    "# Write a program to ask the user to enter the names of their 3 favorite books and store them in a list\n",
    "books = []\n",
    "ask1 = input(\"Enter your fav book: \")\n",
    "books.append(ask1)\n",
    "ask2 = input(\"Enter your fav book 2: \")\n",
    "books.append(ask2)\n",
    "ask3 = input(\"Enter your fav book 3: \")\n",
    "books.append(ask3)\n",
    "print(books)"
   ]
  },
  {
   "cell_type": "code",
   "execution_count": 14,
   "id": "bfebfc52-717b-4c5c-b33e-16800711632c",
   "metadata": {},
   "outputs": [
    {
     "name": "stdout",
     "output_type": "stream",
     "text": [
      "Not Palindrome\n"
     ]
    }
   ],
   "source": [
    "# Write a program to check if a list contains a palindrome of elements.\n",
    "list = [1,2,1]\n",
    "plist = list.copy()\n",
    "plist.reverse()\n",
    "if plist == list:\n",
    "    print(\"Palindrome\")\n",
    "else:\n",
    "    print(\"Not Palindrome\")"
   ]
  },
  {
   "cell_type": "code",
   "execution_count": 19,
   "id": "b4e253d2-aeba-4230-b2fd-7b2b7480c4fc",
   "metadata": {},
   "outputs": [
    {
     "name": "stdout",
     "output_type": "stream",
     "text": [
      "3\n",
      "['A', 'A', 'A', 'B', 'B', 'C', 'D']\n"
     ]
    }
   ],
   "source": [
    "# Write a program to count the number of students with \"A\" grade in the following list.\n",
    "grade = (\"C\", \"D\", \"A\", \"A\", \"B\", \"B\", \"A\")\n",
    "print(grade.count(\"A\"))\n",
    "gradelist = [\"C\", \"D\", \"A\", \"A\", \"B\", \"B\", \"A\"]\n",
    "# Store the above values in a list & sort them from \"A\" to \"D\".\n",
    "gradelist.sort()\n",
    "\n",
    "print(gradelist)"
   ]
  },
  {
   "cell_type": "code",
   "execution_count": 8,
   "id": "de60192e-6c23-4500-bdd8-912815ef41ec",
   "metadata": {},
   "outputs": [
    {
     "name": "stdin",
     "output_type": "stream",
     "text": [
      "Enter a Number:  30\n"
     ]
    },
    {
     "ename": "KeyboardInterrupt",
     "evalue": "",
     "output_type": "error",
     "traceback": [
      "\u001b[1;31m---------------------------------------------------------------------------\u001b[0m",
      "\u001b[1;31mKeyboardInterrupt\u001b[0m                         Traceback (most recent call last)",
      "Cell \u001b[1;32mIn[8], line 9\u001b[0m\n\u001b[0;32m      7\u001b[0m     \u001b[38;5;28;01mbreak\u001b[39;00m\n\u001b[0;32m      8\u001b[0m \u001b[38;5;28;01melse\u001b[39;00m:\n\u001b[1;32m----> 9\u001b[0m     \u001b[38;5;28;01mcontinue\u001b[39;00m\n\u001b[0;32m     10\u001b[0m i \u001b[38;5;241m+\u001b[39m\u001b[38;5;241m=\u001b[39m \u001b[38;5;241m1\u001b[39m\n",
      "\u001b[1;31mKeyboardInterrupt\u001b[0m: "
     ]
    }
   ],
   "source": [
    "nums = (1,4,9,16,25,36,49,64,81,100)\n",
    "x = int(input(\"Enter a Number: \"))\n",
    "i = 0\n",
    "while i < len(nums):\n",
    "    if(nums[i] == x):\n",
    "        print(\"found at\", i)\n",
    "        break\n",
    "    else:\n",
    "        continue\n",
    "    i += 1\n",
    "    "
   ]
  },
  {
   "cell_type": "markdown",
   "id": "0ae9171f-0724-4968-b05d-9a2f86478dc5",
   "metadata": {},
   "source": [
    "## Break & Continue"
   ]
  },
  {
   "cell_type": "code",
   "execution_count": 6,
   "id": "fe38500d-6934-4143-8b80-8033100dbda8",
   "metadata": {},
   "outputs": [
    {
     "name": "stdout",
     "output_type": "stream",
     "text": [
      "1\n",
      "2\n",
      "3\n"
     ]
    }
   ],
   "source": [
    "i = 1\n",
    "while i <= 5:\n",
    "    print(i)\n",
    "    if( i == 3):\n",
    "        break\n",
    "    i+=1"
   ]
  },
  {
   "cell_type": "markdown",
   "id": "3b36a799-4c84-4c0a-a90e-afe2924f0fc4",
   "metadata": {},
   "source": [
    "## Loops\n",
    "For Loops are used for sequential traversal. For traversing list, string, tuples etc."
   ]
  },
  {
   "cell_type": "code",
   "execution_count": 9,
   "id": "4559a399-0853-4a41-bb3b-ab029526f426",
   "metadata": {},
   "outputs": [
    {
     "name": "stdout",
     "output_type": "stream",
     "text": [
      "1\n",
      "2\n",
      "3\n",
      "4\n",
      "5\n",
      "6\n"
     ]
    }
   ],
   "source": [
    "numbers = [1,2,3,4,5,6]\n",
    "for n in numbers:\n",
    "    print(n)"
   ]
  },
  {
   "cell_type": "code",
   "execution_count": 21,
   "id": "4c6c917d-9b3c-454e-a074-3d408b189b6d",
   "metadata": {},
   "outputs": [
    {
     "name": "stdout",
     "output_type": "stream",
     "text": [
      "Karachi\n",
      "Islamabad\n",
      "Lahore\n",
      "Multan\n",
      "Loop Ended\n"
     ]
    }
   ],
   "source": [
    "cities = {\"Islamabad\", \"Karachi\", \"Lahore\", \"Multan\"}\n",
    "for city in cities:\n",
    "    print(city)\n",
    "else:\n",
    "    print(\"Loop Ended\")"
   ]
  },
  {
   "cell_type": "markdown",
   "id": "72541a6a-8f60-4632-a6d7-35aff69e893d",
   "metadata": {},
   "source": [
    "### Linear Search "
   ]
  },
  {
   "cell_type": "code",
   "execution_count": 29,
   "id": "3b3bccd1-fc7b-4575-a326-86062d23c188",
   "metadata": {
    "scrolled": true
   },
   "outputs": [
    {
     "name": "stdout",
     "output_type": "stream",
     "text": [
      "Not found\n",
      "Not found\n",
      "Not found\n",
      "Not found\n",
      "Not found\n",
      "Not found\n",
      "found\n",
      "Not found\n",
      "Not found\n",
      "Not found\n",
      "Not found\n",
      "Not found\n",
      "Not found\n",
      "Not found\n",
      "Not found\n"
     ]
    }
   ],
   "source": [
    "tup = (5,4,2,78,3,23,17,96,4,24,56,32,62,93,16)\n",
    "x = 17\n",
    "for i in tup:\n",
    "    if i == x:\n",
    "        print(\"found\")\n",
    "    else:\n",
    "        print(\"Not found\")\n",
    "        "
   ]
  },
  {
   "cell_type": "markdown",
   "id": "f2f8bcd3-bf81-4e6e-ad79-86b257413f81",
   "metadata": {},
   "source": [
    "Write a Program to find sum of scalar using for loop"
   ]
  },
  {
   "cell_type": "code",
   "execution_count": 32,
   "id": "9936bb50-e051-4c53-8dde-56180661d514",
   "metadata": {},
   "outputs": [
    {
     "name": "stdout",
     "output_type": "stream",
     "text": [
      "15\n"
     ]
    }
   ],
   "source": [
    "n = 5\n",
    "sum = 0\n",
    "for i in range(1, n+1):\n",
    "    sum += i\n",
    "print(sum)"
   ]
  },
  {
   "cell_type": "markdown",
   "id": "5a090e52-a7c0-4b03-93dd-b92805632e3b",
   "metadata": {},
   "source": [
    "Write a program to find the sum of first n numbers using while loop"
   ]
  },
  {
   "cell_type": "code",
   "execution_count": 34,
   "id": "fe667546-f0e0-4eaf-8979-f69a13ce8448",
   "metadata": {},
   "outputs": [
    {
     "name": "stdout",
     "output_type": "stream",
     "text": [
      "15\n"
     ]
    }
   ],
   "source": [
    "n = 5\n",
    "sum = 0\n",
    "i = 1\n",
    "while i <= n:\n",
    "    sum += i\n",
    "    i +=1\n",
    "print(sum)"
   ]
  },
  {
   "cell_type": "markdown",
   "id": "86f35354-c4aa-4c4f-b35e-4eac4e62ae6b",
   "metadata": {},
   "source": [
    "Write a program to find the factorial of first n numbers using for loop."
   ]
  },
  {
   "cell_type": "code",
   "execution_count": 35,
   "id": "071dedca-c445-4509-ad2d-c52ee95fb441",
   "metadata": {},
   "outputs": [
    {
     "name": "stdout",
     "output_type": "stream",
     "text": [
      "120\n"
     ]
    }
   ],
   "source": [
    "n = 5\n",
    "fact = 1\n",
    "for i in range(1, n+1):\n",
    "    fact *= i\n",
    "print(fact)"
   ]
  },
  {
   "cell_type": "code",
   "execution_count": null,
   "id": "7aabe275-e57e-4e96-b94e-38cddc0cfe0d",
   "metadata": {},
   "outputs": [],
   "source": []
  },
  {
   "cell_type": "markdown",
   "id": "db08d66b-0709-4a93-9c48-9b91cad4b9b0",
   "metadata": {},
   "source": [
    "## `range()`\n",
    "`range()` function returns a sequence of numbers, starting from 0 by default, and increments by 1 (by default), and stops before a specified number.\n",
    "``` IPython::python\n",
    "range(start, stop, step)\n",
    "```"
   ]
  },
  {
   "cell_type": "code",
   "execution_count": 12,
   "id": "b8d0d006-cfc9-4743-90bb-5be4a54aeef1",
   "metadata": {},
   "outputs": [
    {
     "name": "stdout",
     "output_type": "stream",
     "text": [
      "0\n",
      "1\n",
      "2\n",
      "3\n",
      "4\n",
      "5\n",
      "6\n",
      "7\n",
      "8\n",
      "9\n"
     ]
    }
   ],
   "source": [
    "for i in range(10):\n",
    "    print(i)"
   ]
  },
  {
   "cell_type": "code",
   "execution_count": 15,
   "id": "515b219f-07b8-4e13-8a70-2dce0915efd0",
   "metadata": {},
   "outputs": [
    {
     "name": "stdout",
     "output_type": "stream",
     "text": [
      "2\n",
      "4\n",
      "6\n",
      "8\n",
      "10\n",
      "12\n",
      "14\n",
      "16\n",
      "18\n",
      "20\n"
     ]
    }
   ],
   "source": [
    "for i in range(2,22,2):\n",
    "    print(i)"
   ]
  },
  {
   "cell_type": "markdown",
   "id": "d0877d6d-3a06-47f7-95ea-bd2502350232",
   "metadata": {},
   "source": [
    "### Even Numbers"
   ]
  },
  {
   "cell_type": "code",
   "execution_count": 17,
   "id": "d26bc274-6e1c-49a3-bff4-22af911e1b26",
   "metadata": {},
   "outputs": [
    {
     "name": "stdout",
     "output_type": "stream",
     "text": [
      "2\n",
      "4\n",
      "6\n",
      "8\n",
      "10\n",
      "12\n",
      "14\n",
      "16\n",
      "18\n",
      "20\n",
      "22\n",
      "24\n",
      "26\n",
      "28\n"
     ]
    }
   ],
   "source": [
    "for i in range(2,30,2):\n",
    "    print(i)"
   ]
  },
  {
   "cell_type": "markdown",
   "id": "f1393e69-f2cc-407a-80c5-6832edb4cc08",
   "metadata": {},
   "source": [
    "### Odd Number"
   ]
  },
  {
   "cell_type": "code",
   "execution_count": 18,
   "id": "a780f02d-1abb-466a-8626-254d23abe12a",
   "metadata": {},
   "outputs": [
    {
     "name": "stdout",
     "output_type": "stream",
     "text": [
      "1\n",
      "3\n",
      "5\n",
      "7\n",
      "9\n",
      "11\n",
      "13\n",
      "15\n",
      "17\n",
      "19\n",
      "21\n",
      "23\n",
      "25\n",
      "27\n",
      "29\n"
     ]
    }
   ],
   "source": [
    "for i in range(1,30,2):\n",
    "    print(i)"
   ]
  },
  {
   "cell_type": "markdown",
   "id": "ab35cbaf-57bc-427b-9e4a-ec1e9677a5eb",
   "metadata": {},
   "source": [
    "### Table Printer"
   ]
  },
  {
   "cell_type": "code",
   "execution_count": 20,
   "id": "809def69-e231-4dbb-897c-c9aada2e43b8",
   "metadata": {},
   "outputs": [
    {
     "name": "stdin",
     "output_type": "stream",
     "text": [
      "Enter a Number:  3\n"
     ]
    },
    {
     "name": "stdout",
     "output_type": "stream",
     "text": [
      "3\n",
      "6\n",
      "9\n",
      "12\n",
      "15\n",
      "18\n",
      "21\n",
      "24\n",
      "27\n",
      "30\n"
     ]
    }
   ],
   "source": [
    "n = int(input(\"Enter a Number: \"))\n",
    "for i in range(n, n*11, n):\n",
    "    print(i)"
   ]
  },
  {
   "cell_type": "markdown",
   "id": "f6338eff-8eca-49fa-9acd-1bb8662cc977",
   "metadata": {},
   "source": [
    "### Let's Practice"
   ]
  },
  {
   "cell_type": "code",
   "execution_count": 26,
   "id": "4bf25d6d-add4-472d-b23f-c1e0e6358c67",
   "metadata": {},
   "outputs": [
    {
     "name": "stdout",
     "output_type": "stream",
     "text": [
      "0\n",
      "1\n",
      "2\n",
      "3\n",
      "4\n",
      "5\n",
      "6\n",
      "7\n",
      "8\n",
      "9\n",
      "10\n",
      "11\n",
      "12\n",
      "13\n",
      "14\n",
      "15\n",
      "16\n",
      "17\n",
      "18\n",
      "19\n",
      "20\n",
      "21\n",
      "22\n",
      "23\n",
      "24\n",
      "25\n",
      "26\n",
      "27\n",
      "28\n",
      "29\n",
      "30\n",
      "31\n",
      "32\n",
      "33\n",
      "34\n",
      "35\n",
      "36\n",
      "37\n",
      "38\n",
      "39\n",
      "40\n",
      "41\n",
      "42\n",
      "43\n",
      "44\n",
      "45\n",
      "46\n",
      "47\n",
      "48\n",
      "49\n",
      "50\n",
      "51\n",
      "52\n",
      "53\n",
      "54\n",
      "55\n",
      "56\n",
      "57\n",
      "58\n",
      "59\n",
      "60\n",
      "61\n",
      "62\n",
      "63\n",
      "64\n",
      "65\n",
      "66\n",
      "67\n",
      "68\n",
      "69\n",
      "70\n",
      "71\n",
      "72\n",
      "73\n",
      "74\n",
      "75\n",
      "76\n",
      "77\n",
      "78\n",
      "79\n",
      "80\n",
      "81\n",
      "82\n",
      "83\n",
      "84\n",
      "85\n",
      "86\n",
      "87\n",
      "88\n",
      "89\n",
      "90\n",
      "91\n",
      "92\n",
      "93\n",
      "94\n",
      "95\n",
      "96\n",
      "97\n",
      "98\n",
      "99\n",
      "100\n"
     ]
    }
   ],
   "source": [
    "for i in range(101):\n",
    "    print(i)"
   ]
  },
  {
   "cell_type": "code",
   "execution_count": 28,
   "id": "4e6ae44a-9328-456e-9d77-471dc6044981",
   "metadata": {},
   "outputs": [
    {
     "name": "stdout",
     "output_type": "stream",
     "text": [
      "100\n",
      "99\n",
      "98\n",
      "97\n",
      "96\n",
      "95\n",
      "94\n",
      "93\n",
      "92\n",
      "91\n",
      "90\n",
      "89\n",
      "88\n",
      "87\n",
      "86\n",
      "85\n",
      "84\n",
      "83\n",
      "82\n",
      "81\n",
      "80\n",
      "79\n",
      "78\n",
      "77\n",
      "76\n",
      "75\n",
      "74\n",
      "73\n",
      "72\n",
      "71\n",
      "70\n",
      "69\n",
      "68\n",
      "67\n",
      "66\n",
      "65\n",
      "64\n",
      "63\n",
      "62\n",
      "61\n",
      "60\n",
      "59\n",
      "58\n",
      "57\n",
      "56\n",
      "55\n",
      "54\n",
      "53\n",
      "52\n",
      "51\n",
      "50\n",
      "49\n",
      "48\n",
      "47\n",
      "46\n",
      "45\n",
      "44\n",
      "43\n",
      "42\n",
      "41\n",
      "40\n",
      "39\n",
      "38\n",
      "37\n",
      "36\n",
      "35\n",
      "34\n",
      "33\n",
      "32\n",
      "31\n",
      "30\n",
      "29\n",
      "28\n",
      "27\n",
      "26\n",
      "25\n",
      "24\n",
      "23\n",
      "22\n",
      "21\n",
      "20\n",
      "19\n",
      "18\n",
      "17\n",
      "16\n",
      "15\n",
      "14\n",
      "13\n",
      "12\n",
      "11\n",
      "10\n",
      "9\n",
      "8\n",
      "7\n",
      "6\n",
      "5\n",
      "4\n",
      "3\n",
      "2\n",
      "1\n"
     ]
    }
   ],
   "source": [
    "for i in range(100,0, -1):\n",
    "    print(i)"
   ]
  },
  {
   "cell_type": "markdown",
   "id": "5e1e8b7a-d6ca-4a71-b91a-85986972938c",
   "metadata": {},
   "source": [
    "## pass statement\n",
    "pass is a null statemet that does nothing. It is used as a placeholder for future code.\n",
    "``` python\n",
    "def add():\n",
    "    pass\n",
    "```"
   ]
  },
  {
   "cell_type": "markdown",
   "id": "980a8942-22be-4a6b-8892-4e8def23573f",
   "metadata": {},
   "source": [
    "## Functions\n",
    "Block of statements that perform a specific task.\n",
    "Functions, which are named blocks of code\n",
    "that are designed to do one specific job.\n",
    "When you want to perform a particular task\n",
    "that you’ve defined in a function, you call the name\n",
    "of the function responsible for it. If you need to\n",
    "perform that task multiple times throughout your program, you don’t\n",
    "need to type all the code for the same task again and again; you just call\n",
    "the function dedicated to handling that task, and the call tells Python to\n",
    "run the code inside the function. \n",
    "``` python\n",
    "def func_name(param1, param2..):\n",
    "    # Code\n",
    "    return\n",
    "func_name(arg1, arg2..) # Call function\n",
    "```\n",
    "### Types of Functions\n",
    "  1. Built-in Functions : Built-in functions are already written in python.\n",
    "  2. User defined Functions\n",
    "### Default Parameters\n",
    "Assigning a default value to parameter, which is used when no argument is passed."
   ]
  },
  {
   "cell_type": "code",
   "execution_count": 36,
   "id": "68d2b742-de7d-4417-a6df-13bf36cf8d14",
   "metadata": {},
   "outputs": [
    {
     "name": "stdout",
     "output_type": "stream",
     "text": [
      "9\n"
     ]
    }
   ],
   "source": [
    "def sum(a,b):\n",
    "    return a + b\n",
    "print(sum(4,5))"
   ]
  },
  {
   "cell_type": "markdown",
   "id": "303e61ef-b0a0-4619-aeda-6abd8444ee4f",
   "metadata": {},
   "source": [
    "### Average of 3 Numbers"
   ]
  },
  {
   "cell_type": "code",
   "execution_count": 38,
   "id": "d8e6df23-f4a9-412c-997e-86efcdf4822a",
   "metadata": {},
   "outputs": [
    {
     "name": "stdout",
     "output_type": "stream",
     "text": [
      "4.0\n"
     ]
    }
   ],
   "source": [
    "def avg(a,b,c):\n",
    "    return (a + b + c)/3\n",
    "print(avg(3,4,5))"
   ]
  },
  {
   "cell_type": "markdown",
   "id": "942697ae-385c-41f8-88a5-ffe4a1555871",
   "metadata": {},
   "source": [
    "### Dot Product"
   ]
  },
  {
   "cell_type": "code",
   "execution_count": null,
   "id": "ed144c3e-b626-422a-b711-220015c393a5",
   "metadata": {},
   "outputs": [],
   "source": [
    "def findot(a = 0,b = 0):\n",
    "    dot = 0\n",
    "    for i in a:\n",
    "        for j in b:\n",
    "            product = i * j\n",
    "            dot +=product\n",
    "            return dot\n",
    "print(findot())"
   ]
  },
  {
   "cell_type": "markdown",
   "id": "007c567a-b7a9-43f6-bd02-4fd117120694",
   "metadata": {},
   "source": [
    "### Let's Practice"
   ]
  },
  {
   "cell_type": "markdown",
   "id": "a1f2098c-a628-4c8e-9216-62e9c3448434",
   "metadata": {},
   "source": [
    "#### WAF to print the length of a list."
   ]
  },
  {
   "cell_type": "code",
   "execution_count": 47,
   "id": "189cc9e9-c783-4c4d-9759-1262aa1c2c06",
   "metadata": {},
   "outputs": [
    {
     "name": "stdout",
     "output_type": "stream",
     "text": [
      "5\n"
     ]
    }
   ],
   "source": [
    "def lenlist(mylist = []):\n",
    "    return len(mylist)\n",
    "print(lenlist([1,2,3,4,5]))\n"
   ]
  },
  {
   "cell_type": "markdown",
   "id": "64d64894-6f2a-408a-a740-c9c72bd5c3fa",
   "metadata": {},
   "source": [
    "#### WAF to print the elements of a list in a single line"
   ]
  },
  {
   "cell_type": "code",
   "execution_count": 49,
   "id": "428c86dd-6cd1-4df4-b3ce-d032ee074dd3",
   "metadata": {},
   "outputs": [
    {
     "name": "stdout",
     "output_type": "stream",
     "text": [
      "1 2 3 4 5 "
     ]
    }
   ],
   "source": [
    "def plist(list = []):\n",
    "    for i in list:\n",
    "        print(i, end = \" \")\n",
    "plist([1,2,3,4,5])"
   ]
  },
  {
   "cell_type": "markdown",
   "id": "32b0e73c-9611-4892-ac6c-c6ac38c69bee",
   "metadata": {},
   "source": [
    "#### WAF to print the factorial of n."
   ]
  },
  {
   "cell_type": "code",
   "execution_count": 50,
   "id": "bb3e0a2a-d2d9-4455-8a72-e0fc96f2316a",
   "metadata": {},
   "outputs": [
    {
     "name": "stdout",
     "output_type": "stream",
     "text": [
      "120\n"
     ]
    }
   ],
   "source": [
    "def fact(n = 0):\n",
    "    fac = 1\n",
    "    for i in range(1, n+1):\n",
    "         fac *= i\n",
    "    return fac\n",
    "print(fact(5))"
   ]
  },
  {
   "cell_type": "markdown",
   "id": "1bc5ff92-931b-4be2-b2c2-8942dc37a011",
   "metadata": {},
   "source": [
    "#### WAF to convert currencies."
   ]
  },
  {
   "cell_type": "code",
   "execution_count": 51,
   "id": "7292e7ea-b7fd-47dc-9acf-6ea6e314b248",
   "metadata": {},
   "outputs": [
    {
     "name": "stdout",
     "output_type": "stream",
     "text": [
      "11200\n"
     ]
    }
   ],
   "source": [
    "def concur(c2_rate, c2):\n",
    "    return c2_rate * c2\n",
    "print(concur(280, 40))"
   ]
  },
  {
   "cell_type": "markdown",
   "id": "aa1364b9-c03b-4260-be74-c1b66d69f2d2",
   "metadata": {},
   "source": [
    "#### WAF to tell if a number is even or odd."
   ]
  },
  {
   "cell_type": "code",
   "execution_count": 54,
   "id": "7161ba33-7886-4a5f-be14-730d1824e4d6",
   "metadata": {},
   "outputs": [
    {
     "name": "stdout",
     "output_type": "stream",
     "text": [
      "Odd\n"
     ]
    }
   ],
   "source": [
    "def tell(n):\n",
    "    ans = 0\n",
    "    if n %2 == 0:\n",
    "        ans = \"Even\"\n",
    "        return ans\n",
    "    else:\n",
    "        ans = \"Odd\"\n",
    "        return ans \n",
    "print(tell(3))"
   ]
  },
  {
   "cell_type": "markdown",
   "id": "4f30c6d6-1f81-42fd-9757-270e44db63d2",
   "metadata": {},
   "source": [
    "## Recursion\n",
    "Recursion is a function who calls itself repeatedly."
   ]
  },
  {
   "cell_type": "code",
   "execution_count": 4,
   "id": "665d9bfb-5079-4607-95dc-12f428dfff2e",
   "metadata": {},
   "outputs": [
    {
     "name": "stdout",
     "output_type": "stream",
     "text": [
      "4\n",
      "3\n",
      "2\n",
      "1\n",
      "[4, 3, 2, 1]\n"
     ]
    }
   ],
   "source": [
    "stack = []\n",
    "def show(n):\n",
    "    if n == 0:\n",
    "        return\n",
    "    print(n)\n",
    "    stack.append(n)\n",
    "    show(n-1)\n",
    "\n",
    "    \n",
    "show(4)\n",
    "print(stack)"
   ]
  },
  {
   "cell_type": "code",
   "execution_count": 5,
   "id": "66e80cb0-3586-439a-8bb8-d2c2c431275e",
   "metadata": {},
   "outputs": [
    {
     "name": "stdout",
     "output_type": "stream",
     "text": [
      "120\n"
     ]
    }
   ],
   "source": [
    "def fact(n):\n",
    "    if n == 0 or n == 1:\n",
    "        return 1\n",
    "    else:\n",
    "        return n * fact(n-1)\n",
    "print(fact(5))"
   ]
  },
  {
   "cell_type": "code",
   "execution_count": null,
   "id": "733cea34-60cf-4d32-ae1f-a28992371f0a",
   "metadata": {},
   "outputs": [],
   "source": []
  },
  {
   "cell_type": "code",
   "execution_count": null,
   "id": "42367518-3484-4bcc-939e-5fc0b598b912",
   "metadata": {},
   "outputs": [],
   "source": []
  },
  {
   "cell_type": "code",
   "execution_count": null,
   "id": "de27157d-77ba-4dfb-893c-588bfd02dab3",
   "metadata": {},
   "outputs": [],
   "source": []
  }
 ],
 "metadata": {
  "kernelspec": {
   "display_name": "Python 3 (ipykernel)",
   "language": "python",
   "name": "python3"
  },
  "language_info": {
   "codemirror_mode": {
    "name": "ipython",
    "version": 3
   },
   "file_extension": ".py",
   "mimetype": "text/x-python",
   "name": "python",
   "nbconvert_exporter": "python",
   "pygments_lexer": "ipython3",
   "version": "3.11.4"
  },
  "widgets": {
   "application/vnd.jupyter.widget-state+json": {
    "state": {},
    "version_major": 2,
    "version_minor": 0
   }
  }
 },
 "nbformat": 4,
 "nbformat_minor": 5
}
